{
 "cells": [
  {
   "cell_type": "code",
   "execution_count": 2,
   "metadata": {},
   "outputs": [],
   "source": [
    "import pandas as pd\n",
    "import numpy as np\n",
    "from numpy import loadtxt\n",
    "from xgboost import XGBClassifier\n",
    "from xgboost import XGBRegressor\n",
    "from sklearn.model_selection import train_test_split\n",
    "from sklearn.metrics import classification_report\n",
    "from sklearn.metrics import confusion_matrix\n",
    "from sklearn.metrics import accuracy_score\n",
    "from scipy import stats"
   ]
  },
  {
   "cell_type": "code",
   "execution_count": 3,
   "metadata": {},
   "outputs": [
    {
     "name": "stderr",
     "output_type": "stream",
     "text": [
      "/home/geanderson/anaconda3/lib/python3.7/site-packages/IPython/core/interactiveshell.py:3049: DtypeWarning: Columns (1,4,5,78) have mixed types. Specify dtype option on import or set low_memory=False.\n",
      "  interactivity=interactivity, compiler=compiler, result=result)\n"
     ]
    }
   ],
   "source": [
    "# read the data\n",
    "df = pd.read_csv(\"../data/total_dry.csv\", index_col=0)"
   ]
  },
  {
   "cell_type": "code",
   "execution_count": 4,
   "metadata": {},
   "outputs": [],
   "source": [
    " df = df.loc[:, ~df.columns.str.contains('^Unnamed')]"
   ]
  },
  {
   "cell_type": "code",
   "execution_count": 5,
   "metadata": {},
   "outputs": [],
   "source": [
    "# convert all columns of DataFrame\n",
    "df = df.dropna()"
   ]
  },
  {
   "cell_type": "code",
   "execution_count": 6,
   "metadata": {},
   "outputs": [],
   "source": [
    "df = df.apply(pd.to_numeric)"
   ]
  },
  {
   "cell_type": "code",
   "execution_count": 7,
   "metadata": {},
   "outputs": [
    {
     "data": {
      "text/plain": [
       "(601076, 84)"
      ]
     },
     "execution_count": 7,
     "metadata": {},
     "output_type": "execute_result"
    }
   ],
   "source": [
    "df.shape"
   ]
  },
  {
   "cell_type": "code",
   "execution_count": 9,
   "metadata": {
    "scrolled": true
   },
   "outputs": [],
   "source": [
    "# split data into X and y\n",
    "array = df.values\n",
    "X = array[:,0:83]\n",
    "Y = array[:,83]"
   ]
  },
  {
   "cell_type": "code",
   "execution_count": 10,
   "metadata": {},
   "outputs": [],
   "source": [
    "# split data into train and test sets\n",
    "seed = 7\n",
    "test_size = 0.33\n",
    "X_train, X_test, y_train, y_test = train_test_split(X, Y, test_size=test_size, random_state=seed)"
   ]
  },
  {
   "cell_type": "code",
   "execution_count": 11,
   "metadata": {},
   "outputs": [],
   "source": [
    "# fit model no training data\n",
    "model = XGBRegressor(n_estimators=100,\n",
    "                    learning_rate = .1,\n",
    "                    max_depth = 6,\n",
    "                    random_state=42,\n",
    "                    n_jobs = -1,\n",
    "                    early_stopping_rounds=10)"
   ]
  },
  {
   "cell_type": "code",
   "execution_count": 12,
   "metadata": {},
   "outputs": [
    {
     "name": "stdout",
     "output_type": "stream",
     "text": [
      "[23:35:08] WARNING: /workspace/src/objective/regression_obj.cu:152: reg:linear is now deprecated in favor of reg:squarederror.\n",
      "[0]\tvalidation_0-mae:28.1735\n",
      "[1]\tvalidation_0-mae:25.3569\n",
      "[2]\tvalidation_0-mae:22.8217\n",
      "[3]\tvalidation_0-mae:20.5401\n",
      "[4]\tvalidation_0-mae:18.4865\n",
      "[5]\tvalidation_0-mae:16.6382\n",
      "[6]\tvalidation_0-mae:14.9748\n",
      "[7]\tvalidation_0-mae:13.4777\n",
      "[8]\tvalidation_0-mae:12.1303\n",
      "[9]\tvalidation_0-mae:10.9175\n",
      "[10]\tvalidation_0-mae:9.82601\n",
      "[11]\tvalidation_0-mae:8.8436\n",
      "[12]\tvalidation_0-mae:7.95945\n",
      "[13]\tvalidation_0-mae:7.16361\n",
      "[14]\tvalidation_0-mae:6.44749\n",
      "[15]\tvalidation_0-mae:5.80296\n",
      "[16]\tvalidation_0-mae:5.22284\n",
      "[17]\tvalidation_0-mae:4.7007\n",
      "[18]\tvalidation_0-mae:4.23084\n",
      "[19]\tvalidation_0-mae:3.80789\n",
      "[20]\tvalidation_0-mae:3.42719\n",
      "[21]\tvalidation_0-mae:3.08457\n",
      "[22]\tvalidation_0-mae:2.77618\n",
      "[23]\tvalidation_0-mae:2.49866\n",
      "[24]\tvalidation_0-mae:2.24888\n",
      "[25]\tvalidation_0-mae:2.0241\n",
      "[26]\tvalidation_0-mae:1.82177\n",
      "[27]\tvalidation_0-mae:1.63972\n",
      "[28]\tvalidation_0-mae:1.4758\n",
      "[29]\tvalidation_0-mae:1.3283\n",
      "[30]\tvalidation_0-mae:1.19554\n",
      "[31]\tvalidation_0-mae:1.07605\n",
      "[32]\tvalidation_0-mae:0.968516\n",
      "[33]\tvalidation_0-mae:0.871723\n",
      "[34]\tvalidation_0-mae:0.784603\n",
      "[35]\tvalidation_0-mae:0.706196\n",
      "[36]\tvalidation_0-mae:0.63564\n",
      "[37]\tvalidation_0-mae:0.572135\n",
      "[38]\tvalidation_0-mae:0.514992\n",
      "[39]\tvalidation_0-mae:0.463569\n",
      "[40]\tvalidation_0-mae:0.417288\n",
      "[41]\tvalidation_0-mae:0.375645\n",
      "[42]\tvalidation_0-mae:0.338168\n",
      "[43]\tvalidation_0-mae:0.304461\n",
      "[44]\tvalidation_0-mae:0.274139\n",
      "[45]\tvalidation_0-mae:0.246848\n",
      "[46]\tvalidation_0-mae:0.222314\n",
      "[47]\tvalidation_0-mae:0.200275\n",
      "[48]\tvalidation_0-mae:0.180481\n",
      "[49]\tvalidation_0-mae:0.162704\n",
      "[50]\tvalidation_0-mae:0.146802\n",
      "[51]\tvalidation_0-mae:0.132514\n",
      "[52]\tvalidation_0-mae:0.119738\n",
      "[53]\tvalidation_0-mae:0.108348\n",
      "[54]\tvalidation_0-mae:0.09819\n",
      "[55]\tvalidation_0-mae:0.089168\n",
      "[56]\tvalidation_0-mae:0.081225\n",
      "[57]\tvalidation_0-mae:0.074171\n",
      "[58]\tvalidation_0-mae:0.067969\n",
      "[59]\tvalidation_0-mae:0.062523\n",
      "[60]\tvalidation_0-mae:0.057788\n",
      "[61]\tvalidation_0-mae:0.0536\n",
      "[62]\tvalidation_0-mae:0.049959\n",
      "[63]\tvalidation_0-mae:0.046772\n",
      "[64]\tvalidation_0-mae:0.044014\n",
      "[65]\tvalidation_0-mae:0.041686\n",
      "[66]\tvalidation_0-mae:0.039614\n",
      "[67]\tvalidation_0-mae:0.037893\n",
      "[68]\tvalidation_0-mae:0.036337\n",
      "[69]\tvalidation_0-mae:0.035003\n",
      "[70]\tvalidation_0-mae:0.033827\n",
      "[71]\tvalidation_0-mae:0.032855\n",
      "[72]\tvalidation_0-mae:0.032004\n",
      "[73]\tvalidation_0-mae:0.031199\n",
      "[74]\tvalidation_0-mae:0.030483\n",
      "[75]\tvalidation_0-mae:0.029964\n",
      "[76]\tvalidation_0-mae:0.029452\n",
      "[77]\tvalidation_0-mae:0.029023\n",
      "[78]\tvalidation_0-mae:0.02867\n",
      "[79]\tvalidation_0-mae:0.028383\n",
      "[80]\tvalidation_0-mae:0.028095\n",
      "[81]\tvalidation_0-mae:0.027853\n",
      "[82]\tvalidation_0-mae:0.027592\n",
      "[83]\tvalidation_0-mae:0.02735\n",
      "[84]\tvalidation_0-mae:0.02718\n",
      "[85]\tvalidation_0-mae:0.027045\n",
      "[86]\tvalidation_0-mae:0.026867\n",
      "[87]\tvalidation_0-mae:0.02666\n",
      "[88]\tvalidation_0-mae:0.026554\n",
      "[89]\tvalidation_0-mae:0.026387\n",
      "[90]\tvalidation_0-mae:0.026305\n",
      "[91]\tvalidation_0-mae:0.026203\n",
      "[92]\tvalidation_0-mae:0.026117\n",
      "[93]\tvalidation_0-mae:0.02598\n",
      "[94]\tvalidation_0-mae:0.025894\n",
      "[95]\tvalidation_0-mae:0.025783\n",
      "[96]\tvalidation_0-mae:0.025701\n",
      "[97]\tvalidation_0-mae:0.025626\n",
      "[98]\tvalidation_0-mae:0.02556\n",
      "[99]\tvalidation_0-mae:0.025442\n"
     ]
    },
    {
     "data": {
      "text/plain": [
       "XGBRegressor(base_score=0.5, booster='gbtree', colsample_bylevel=1,\n",
       "       colsample_bynode=1, colsample_bytree=1, early_stopping_rounds=10,\n",
       "       gamma=0, importance_type='gain', learning_rate=0.1,\n",
       "       max_delta_step=0, max_depth=6, min_child_weight=1, missing=None,\n",
       "       n_estimators=100, n_jobs=-1, nthread=None, objective='reg:linear',\n",
       "       random_state=42, reg_alpha=0, reg_lambda=1, scale_pos_weight=1,\n",
       "       seed=None, silent=None, subsample=1, verbosity=1)"
      ]
     },
     "execution_count": 12,
     "metadata": {},
     "output_type": "execute_result"
    }
   ],
   "source": [
    "model.fit(\n",
    "    X_train, \n",
    "    y_train, \n",
    "    eval_metric=\"mae\",\n",
    "    eval_set=[(X_test, y_test)],\n",
    "    verbose=True)"
   ]
  },
  {
   "cell_type": "code",
   "execution_count": 15,
   "metadata": {},
   "outputs": [],
   "source": [
    "# make predictions for test data\n",
    "y_pred = model.predict(X_test)\n",
    "predictions = [round(value) for value in y_pred]"
   ]
  },
  {
   "cell_type": "code",
   "execution_count": 16,
   "metadata": {},
   "outputs": [
    {
     "ename": "ValueError",
     "evalue": "Classification metrics can't handle a mix of continuous and multiclass targets",
     "output_type": "error",
     "traceback": [
      "\u001b[0;31m---------------------------------------------------------------------------\u001b[0m",
      "\u001b[0;31mValueError\u001b[0m                                Traceback (most recent call last)",
      "\u001b[0;32m<ipython-input-16-43b4e8fa9456>\u001b[0m in \u001b[0;36m<module>\u001b[0;34m\u001b[0m\n\u001b[1;32m      1\u001b[0m \u001b[0;31m# evaluate predictions\u001b[0m\u001b[0;34m\u001b[0m\u001b[0;34m\u001b[0m\u001b[0;34m\u001b[0m\u001b[0m\n\u001b[0;32m----> 2\u001b[0;31m \u001b[0maccuracy\u001b[0m \u001b[0;34m=\u001b[0m \u001b[0maccuracy_score\u001b[0m\u001b[0;34m(\u001b[0m\u001b[0my_test\u001b[0m\u001b[0;34m,\u001b[0m \u001b[0mpredictions\u001b[0m\u001b[0;34m)\u001b[0m\u001b[0;34m\u001b[0m\u001b[0;34m\u001b[0m\u001b[0m\n\u001b[0m\u001b[1;32m      3\u001b[0m \u001b[0mprint\u001b[0m\u001b[0;34m(\u001b[0m\u001b[0;34m\"Accuracy: %.2f%%\"\u001b[0m \u001b[0;34m%\u001b[0m \u001b[0;34m(\u001b[0m\u001b[0maccuracy\u001b[0m \u001b[0;34m*\u001b[0m \u001b[0;36m100.0\u001b[0m\u001b[0;34m)\u001b[0m\u001b[0;34m)\u001b[0m\u001b[0;34m\u001b[0m\u001b[0;34m\u001b[0m\u001b[0m\n",
      "\u001b[0;32m~/anaconda3/lib/python3.7/site-packages/sklearn/metrics/classification.py\u001b[0m in \u001b[0;36maccuracy_score\u001b[0;34m(y_true, y_pred, normalize, sample_weight)\u001b[0m\n\u001b[1;32m    174\u001b[0m \u001b[0;34m\u001b[0m\u001b[0m\n\u001b[1;32m    175\u001b[0m     \u001b[0;31m# Compute accuracy for each possible representation\u001b[0m\u001b[0;34m\u001b[0m\u001b[0;34m\u001b[0m\u001b[0;34m\u001b[0m\u001b[0m\n\u001b[0;32m--> 176\u001b[0;31m     \u001b[0my_type\u001b[0m\u001b[0;34m,\u001b[0m \u001b[0my_true\u001b[0m\u001b[0;34m,\u001b[0m \u001b[0my_pred\u001b[0m \u001b[0;34m=\u001b[0m \u001b[0m_check_targets\u001b[0m\u001b[0;34m(\u001b[0m\u001b[0my_true\u001b[0m\u001b[0;34m,\u001b[0m \u001b[0my_pred\u001b[0m\u001b[0;34m)\u001b[0m\u001b[0;34m\u001b[0m\u001b[0;34m\u001b[0m\u001b[0m\n\u001b[0m\u001b[1;32m    177\u001b[0m     \u001b[0mcheck_consistent_length\u001b[0m\u001b[0;34m(\u001b[0m\u001b[0my_true\u001b[0m\u001b[0;34m,\u001b[0m \u001b[0my_pred\u001b[0m\u001b[0;34m,\u001b[0m \u001b[0msample_weight\u001b[0m\u001b[0;34m)\u001b[0m\u001b[0;34m\u001b[0m\u001b[0;34m\u001b[0m\u001b[0m\n\u001b[1;32m    178\u001b[0m     \u001b[0;32mif\u001b[0m \u001b[0my_type\u001b[0m\u001b[0;34m.\u001b[0m\u001b[0mstartswith\u001b[0m\u001b[0;34m(\u001b[0m\u001b[0;34m'multilabel'\u001b[0m\u001b[0;34m)\u001b[0m\u001b[0;34m:\u001b[0m\u001b[0;34m\u001b[0m\u001b[0;34m\u001b[0m\u001b[0m\n",
      "\u001b[0;32m~/anaconda3/lib/python3.7/site-packages/sklearn/metrics/classification.py\u001b[0m in \u001b[0;36m_check_targets\u001b[0;34m(y_true, y_pred)\u001b[0m\n\u001b[1;32m     79\u001b[0m     \u001b[0;32mif\u001b[0m \u001b[0mlen\u001b[0m\u001b[0;34m(\u001b[0m\u001b[0my_type\u001b[0m\u001b[0;34m)\u001b[0m \u001b[0;34m>\u001b[0m \u001b[0;36m1\u001b[0m\u001b[0;34m:\u001b[0m\u001b[0;34m\u001b[0m\u001b[0;34m\u001b[0m\u001b[0m\n\u001b[1;32m     80\u001b[0m         raise ValueError(\"Classification metrics can't handle a mix of {0} \"\n\u001b[0;32m---> 81\u001b[0;31m                          \"and {1} targets\".format(type_true, type_pred))\n\u001b[0m\u001b[1;32m     82\u001b[0m \u001b[0;34m\u001b[0m\u001b[0m\n\u001b[1;32m     83\u001b[0m     \u001b[0;31m# We can't have more than one value on y_type => The set is no more needed\u001b[0m\u001b[0;34m\u001b[0m\u001b[0;34m\u001b[0m\u001b[0;34m\u001b[0m\u001b[0m\n",
      "\u001b[0;31mValueError\u001b[0m: Classification metrics can't handle a mix of continuous and multiclass targets"
     ]
    }
   ],
   "source": [
    "# evaluate predictions\n",
    "accuracy = accuracy_score(y_test, predictions)\n",
    "print(\"Accuracy: %.2f%%\" % (accuracy * 100.0))"
   ]
  },
  {
   "cell_type": "code",
   "execution_count": null,
   "metadata": {},
   "outputs": [],
   "source": []
  }
 ],
 "metadata": {
  "kernelspec": {
   "display_name": "Python 3",
   "language": "python",
   "name": "python3"
  },
  "language_info": {
   "codemirror_mode": {
    "name": "ipython",
    "version": 3
   },
   "file_extension": ".py",
   "mimetype": "text/x-python",
   "name": "python",
   "nbconvert_exporter": "python",
   "pygments_lexer": "ipython3",
   "version": "3.7.3"
  }
 },
 "nbformat": 4,
 "nbformat_minor": 2
}
