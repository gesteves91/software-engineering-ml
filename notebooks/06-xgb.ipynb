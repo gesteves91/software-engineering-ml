{
 "cells": [
  {
   "cell_type": "markdown",
   "metadata": {},
   "source": [
    "# XGBoost"
   ]
  },
  {
   "cell_type": "markdown",
   "metadata": {},
   "source": [
    "#### Import the libraries"
   ]
  },
  {
   "cell_type": "code",
   "execution_count": 1,
   "metadata": {},
   "outputs": [],
   "source": [
    "import pandas as pd\n",
    "import numpy as np"
   ]
  },
  {
   "cell_type": "code",
   "execution_count": 2,
   "metadata": {},
   "outputs": [],
   "source": [
    "from numpy import loadtxt\n",
    "from xgboost import XGBClassifier\n",
    "from xgboost import XGBRegressor\n",
    "from sklearn.model_selection import train_test_split\n",
    "from sklearn.metrics import classification_report\n",
    "from sklearn.metrics import confusion_matrix\n",
    "from sklearn.metrics import accuracy_score\n",
    "from scipy import stats"
   ]
  },
  {
   "cell_type": "markdown",
   "metadata": {},
   "source": [
    "### Read the data"
   ]
  },
  {
   "cell_type": "code",
   "execution_count": 17,
   "metadata": {},
   "outputs": [],
   "source": [
    "# read the data\n",
    "df = pd.read_csv(\"../data/total_dry.csv\", index_col=0)"
   ]
  },
  {
   "cell_type": "markdown",
   "metadata": {},
   "source": [
    "##### Prepare the data"
   ]
  },
  {
   "cell_type": "code",
   "execution_count": 18,
   "metadata": {},
   "outputs": [],
   "source": [
    "# delete unnamed column\n",
    "df = df.loc[:, ~df.columns.str.contains('^Unnamed')]\n",
    "# convert all columns of DataFrame\n",
    "df = df.dropna()\n",
    "# conver to numeric\n",
    "df = df.apply(pd.to_numeric)"
   ]
  },
  {
   "cell_type": "code",
   "execution_count": 19,
   "metadata": {},
   "outputs": [
    {
     "data": {
      "text/plain": [
       "(601076, 89)"
      ]
     },
     "execution_count": 19,
     "metadata": {},
     "output_type": "execute_result"
    }
   ],
   "source": [
    "# check the shape\n",
    "df.shape"
   ]
  },
  {
   "cell_type": "markdown",
   "metadata": {},
   "source": [
    "#### Create X features and Y target"
   ]
  },
  {
   "cell_type": "code",
   "execution_count": 7,
   "metadata": {
    "scrolled": true
   },
   "outputs": [],
   "source": [
    "# split data into X and y\n",
    "array = df.values\n",
    "X = array[:,0:88]\n",
    "Y = array[:,88]"
   ]
  },
  {
   "cell_type": "code",
   "execution_count": 8,
   "metadata": {},
   "outputs": [],
   "source": [
    "# split data into train and test sets\n",
    "seed = 7\n",
    "test_size = 0.33\n",
    "X_train, X_test, y_train, y_test = train_test_split(X, Y, test_size=test_size, random_state=seed)"
   ]
  },
  {
   "cell_type": "markdown",
   "metadata": {},
   "source": [
    "#### Create the model"
   ]
  },
  {
   "cell_type": "code",
   "execution_count": 9,
   "metadata": {},
   "outputs": [],
   "source": [
    "# fit model no training data\n",
    "model = XGBRegressor(n_estimators=100,\n",
    "                    learning_rate = .1,\n",
    "                    max_depth = 6,\n",
    "                    random_state=42,\n",
    "                    n_jobs = -1,\n",
    "                    early_stopping_rounds=10)"
   ]
  },
  {
   "cell_type": "code",
   "execution_count": 10,
   "metadata": {},
   "outputs": [
    {
     "name": "stdout",
     "output_type": "stream",
     "text": [
      "[22:14:49] WARNING: /workspace/src/objective/regression_obj.cu:152: reg:linear is now deprecated in favor of reg:squarederror.\n",
      "[0]\tvalidation_0-mae:28.1864\n",
      "[1]\tvalidation_0-mae:25.3843\n",
      "[2]\tvalidation_0-mae:22.8679\n",
      "[3]\tvalidation_0-mae:20.6074\n",
      "[4]\tvalidation_0-mae:18.576\n",
      "[5]\tvalidation_0-mae:16.7561\n",
      "[6]\tvalidation_0-mae:15.1181\n",
      "[7]\tvalidation_0-mae:13.6537\n",
      "[8]\tvalidation_0-mae:12.3398\n",
      "[9]\tvalidation_0-mae:11.1653\n",
      "[10]\tvalidation_0-mae:10.1249\n",
      "[11]\tvalidation_0-mae:9.19456\n",
      "[12]\tvalidation_0-mae:8.37173\n",
      "[13]\tvalidation_0-mae:7.64127\n",
      "[14]\tvalidation_0-mae:6.97542\n",
      "[15]\tvalidation_0-mae:6.40484\n",
      "[16]\tvalidation_0-mae:5.86965\n",
      "[17]\tvalidation_0-mae:5.40718\n",
      "[18]\tvalidation_0-mae:4.99529\n",
      "[19]\tvalidation_0-mae:4.63537\n",
      "[20]\tvalidation_0-mae:4.31555\n",
      "[21]\tvalidation_0-mae:4.04639\n",
      "[22]\tvalidation_0-mae:3.7934\n",
      "[23]\tvalidation_0-mae:3.559\n",
      "[24]\tvalidation_0-mae:3.37141\n",
      "[25]\tvalidation_0-mae:3.21775\n",
      "[26]\tvalidation_0-mae:3.048\n",
      "[27]\tvalidation_0-mae:2.93374\n",
      "[28]\tvalidation_0-mae:2.82477\n",
      "[29]\tvalidation_0-mae:2.70481\n",
      "[30]\tvalidation_0-mae:2.60577\n",
      "[31]\tvalidation_0-mae:2.53193\n",
      "[32]\tvalidation_0-mae:2.45501\n",
      "[33]\tvalidation_0-mae:2.39579\n",
      "[34]\tvalidation_0-mae:2.35187\n",
      "[35]\tvalidation_0-mae:2.30785\n",
      "[36]\tvalidation_0-mae:2.26292\n",
      "[37]\tvalidation_0-mae:2.22776\n",
      "[38]\tvalidation_0-mae:2.1902\n",
      "[39]\tvalidation_0-mae:2.15742\n",
      "[40]\tvalidation_0-mae:2.11998\n",
      "[41]\tvalidation_0-mae:2.1064\n",
      "[42]\tvalidation_0-mae:2.08827\n",
      "[43]\tvalidation_0-mae:2.06285\n",
      "[44]\tvalidation_0-mae:2.04605\n",
      "[45]\tvalidation_0-mae:2.03042\n",
      "[46]\tvalidation_0-mae:2.00119\n",
      "[47]\tvalidation_0-mae:1.99315\n",
      "[48]\tvalidation_0-mae:1.97894\n",
      "[49]\tvalidation_0-mae:1.96218\n",
      "[50]\tvalidation_0-mae:1.95005\n",
      "[51]\tvalidation_0-mae:1.94275\n",
      "[52]\tvalidation_0-mae:1.93608\n",
      "[53]\tvalidation_0-mae:1.92017\n",
      "[54]\tvalidation_0-mae:1.91106\n",
      "[55]\tvalidation_0-mae:1.89838\n",
      "[56]\tvalidation_0-mae:1.88824\n",
      "[57]\tvalidation_0-mae:1.88251\n",
      "[58]\tvalidation_0-mae:1.87739\n",
      "[59]\tvalidation_0-mae:1.87444\n",
      "[60]\tvalidation_0-mae:1.86229\n",
      "[61]\tvalidation_0-mae:1.85869\n",
      "[62]\tvalidation_0-mae:1.85088\n",
      "[63]\tvalidation_0-mae:1.84161\n",
      "[64]\tvalidation_0-mae:1.8201\n",
      "[65]\tvalidation_0-mae:1.81668\n",
      "[66]\tvalidation_0-mae:1.80741\n",
      "[67]\tvalidation_0-mae:1.79544\n",
      "[68]\tvalidation_0-mae:1.79281\n",
      "[69]\tvalidation_0-mae:1.78549\n",
      "[70]\tvalidation_0-mae:1.78013\n",
      "[71]\tvalidation_0-mae:1.77655\n",
      "[72]\tvalidation_0-mae:1.7755\n",
      "[73]\tvalidation_0-mae:1.76842\n",
      "[74]\tvalidation_0-mae:1.75559\n",
      "[75]\tvalidation_0-mae:1.74976\n",
      "[76]\tvalidation_0-mae:1.73716\n",
      "[77]\tvalidation_0-mae:1.73377\n",
      "[78]\tvalidation_0-mae:1.72469\n",
      "[79]\tvalidation_0-mae:1.72215\n",
      "[80]\tvalidation_0-mae:1.71792\n",
      "[81]\tvalidation_0-mae:1.71505\n",
      "[82]\tvalidation_0-mae:1.71271\n",
      "[83]\tvalidation_0-mae:1.71012\n",
      "[84]\tvalidation_0-mae:1.70796\n",
      "[85]\tvalidation_0-mae:1.70187\n",
      "[86]\tvalidation_0-mae:1.69822\n",
      "[87]\tvalidation_0-mae:1.69547\n",
      "[88]\tvalidation_0-mae:1.69466\n",
      "[89]\tvalidation_0-mae:1.69269\n",
      "[90]\tvalidation_0-mae:1.68817\n",
      "[91]\tvalidation_0-mae:1.68617\n",
      "[92]\tvalidation_0-mae:1.6809\n",
      "[93]\tvalidation_0-mae:1.6756\n",
      "[94]\tvalidation_0-mae:1.67102\n",
      "[95]\tvalidation_0-mae:1.66705\n",
      "[96]\tvalidation_0-mae:1.66409\n",
      "[97]\tvalidation_0-mae:1.65471\n",
      "[98]\tvalidation_0-mae:1.65144\n",
      "[99]\tvalidation_0-mae:1.65019\n"
     ]
    },
    {
     "data": {
      "text/plain": [
       "XGBRegressor(base_score=0.5, booster='gbtree', colsample_bylevel=1,\n",
       "       colsample_bynode=1, colsample_bytree=1, early_stopping_rounds=10,\n",
       "       gamma=0, importance_type='gain', learning_rate=0.1,\n",
       "       max_delta_step=0, max_depth=6, min_child_weight=1, missing=None,\n",
       "       n_estimators=100, n_jobs=-1, nthread=None, objective='reg:linear',\n",
       "       random_state=42, reg_alpha=0, reg_lambda=1, scale_pos_weight=1,\n",
       "       seed=None, silent=None, subsample=1, verbosity=1)"
      ]
     },
     "execution_count": 10,
     "metadata": {},
     "output_type": "execute_result"
    }
   ],
   "source": [
    "model.fit(\n",
    "    X_train, \n",
    "    y_train, \n",
    "    eval_metric=\"rmse\",\n",
    "    eval_set=[(X_test, y_test)],\n",
    "    verbose=True)"
   ]
  },
  {
   "cell_type": "code",
   "execution_count": null,
   "metadata": {},
   "outputs": [],
   "source": []
  }
 ],
 "metadata": {
  "kernelspec": {
   "display_name": "Python 3",
   "language": "python",
   "name": "python3"
  },
  "language_info": {
   "codemirror_mode": {
    "name": "ipython",
    "version": 3
   },
   "file_extension": ".py",
   "mimetype": "text/x-python",
   "name": "python",
   "nbconvert_exporter": "python",
   "pygments_lexer": "ipython3",
   "version": "3.7.3"
  }
 },
 "nbformat": 4,
 "nbformat_minor": 2
}
