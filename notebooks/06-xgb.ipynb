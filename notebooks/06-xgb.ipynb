{
 "cells": [
  {
   "cell_type": "markdown",
   "metadata": {},
   "source": [
    "# XGBoost"
   ]
  },
  {
   "cell_type": "markdown",
   "metadata": {},
   "source": [
    "#### Import the libraries"
   ]
  },
  {
   "cell_type": "code",
   "execution_count": 24,
   "metadata": {},
   "outputs": [],
   "source": [
    "import pandas as pd\n",
    "import numpy as np\n",
    "import xgboost as xgb"
   ]
  },
  {
   "cell_type": "code",
   "execution_count": 25,
   "metadata": {},
   "outputs": [],
   "source": [
    "from numpy import loadtxt\n",
    "from xgboost import XGBClassifier\n",
    "from xgboost import XGBRegressor\n",
    "from sklearn.model_selection import train_test_split\n",
    "from sklearn.metrics import classification_report\n",
    "from sklearn.metrics import confusion_matrix\n",
    "from sklearn.metrics import accuracy_score\n",
    "from sklearn.metrics import mean_squared_error\n",
    "from scipy import stats"
   ]
  },
  {
   "cell_type": "markdown",
   "metadata": {},
   "source": [
    "### Read the data"
   ]
  },
  {
   "cell_type": "code",
   "execution_count": 26,
   "metadata": {},
   "outputs": [
    {
     "name": "stderr",
     "output_type": "stream",
     "text": [
      "/home/geanderson/anaconda3/lib/python3.7/site-packages/IPython/core/interactiveshell.py:3049: DtypeWarning: Columns (1,4,5,82) have mixed types. Specify dtype option on import or set low_memory=False.\n",
      "  interactivity=interactivity, compiler=compiler, result=result)\n"
     ]
    }
   ],
   "source": [
    "# read the data\n",
    "df = pd.read_csv(\"../data/total_dry.csv\", index_col=0)"
   ]
  },
  {
   "cell_type": "markdown",
   "metadata": {},
   "source": [
    "##### Prepare the data"
   ]
  },
  {
   "cell_type": "code",
   "execution_count": 27,
   "metadata": {},
   "outputs": [],
   "source": [
    "# delete unnamed column\n",
    "df = df.loc[:, ~df.columns.str.contains('^Unnamed')]\n",
    "# convert all columns of DataFrame\n",
    "df = df.dropna()\n",
    "# find the objects columns\n",
    "cols = df.columns[df.dtypes.eq('object')]\n",
    "# convert to numeric these columns\n",
    "df[cols] = df[cols].apply(pd.to_numeric, errors='coerce')"
   ]
  },
  {
   "cell_type": "code",
   "execution_count": 28,
   "metadata": {},
   "outputs": [
    {
     "data": {
      "text/plain": [
       "(601076, 92)"
      ]
     },
     "execution_count": 28,
     "metadata": {},
     "output_type": "execute_result"
    }
   ],
   "source": [
    "# check the shape\n",
    "df.shape"
   ]
  },
  {
   "cell_type": "markdown",
   "metadata": {},
   "source": [
    "#### Create X features and Y target"
   ]
  },
  {
   "cell_type": "code",
   "execution_count": 29,
   "metadata": {
    "scrolled": true
   },
   "outputs": [],
   "source": [
    "# split data into X and y\n",
    "array = df.values\n",
    "X = array[:,0:91]\n",
    "Y = array[:,91]"
   ]
  },
  {
   "cell_type": "code",
   "execution_count": 30,
   "metadata": {},
   "outputs": [],
   "source": [
    "# split data into train and test sets\n",
    "seed = 7\n",
    "test_size = 0.2\n",
    "X_train, X_test, y_train, y_test = train_test_split(X, Y, test_size=test_size, random_state=seed)"
   ]
  },
  {
   "cell_type": "markdown",
   "metadata": {},
   "source": [
    "#### Create the model"
   ]
  },
  {
   "cell_type": "code",
   "execution_count": 31,
   "metadata": {},
   "outputs": [],
   "source": [
    "# fit model no training data\n",
    "model = XGBRegressor(n_estimators=100,\n",
    "                    learning_rate = .1,\n",
    "                    max_depth = 6,\n",
    "                    random_state=42,\n",
    "                    n_jobs = -1,\n",
    "                    early_stopping_rounds=10)"
   ]
  },
  {
   "cell_type": "code",
   "execution_count": 32,
   "metadata": {},
   "outputs": [
    {
     "name": "stdout",
     "output_type": "stream",
     "text": [
      "[01:12:27] WARNING: /workspace/src/objective/regression_obj.cu:152: reg:linear is now deprecated in favor of reg:squarederror.\n",
      "[0]\tvalidation_0-mae:28.2021\n",
      "[1]\tvalidation_0-mae:25.3987\n",
      "[2]\tvalidation_0-mae:22.879\n",
      "[3]\tvalidation_0-mae:20.6153\n",
      "[4]\tvalidation_0-mae:18.5834\n",
      "[5]\tvalidation_0-mae:16.7587\n",
      "[6]\tvalidation_0-mae:15.1192\n",
      "[7]\tvalidation_0-mae:13.6464\n",
      "[8]\tvalidation_0-mae:12.3295\n",
      "[9]\tvalidation_0-mae:11.1479\n",
      "[10]\tvalidation_0-mae:10.0893\n",
      "[11]\tvalidation_0-mae:9.13828\n",
      "[12]\tvalidation_0-mae:8.28901\n",
      "[13]\tvalidation_0-mae:7.52761\n",
      "[14]\tvalidation_0-mae:6.84866\n",
      "[15]\tvalidation_0-mae:6.24492\n",
      "[16]\tvalidation_0-mae:5.70648\n",
      "[17]\tvalidation_0-mae:5.231\n",
      "[18]\tvalidation_0-mae:4.80911\n",
      "[19]\tvalidation_0-mae:4.43748\n",
      "[20]\tvalidation_0-mae:4.10876\n",
      "[21]\tvalidation_0-mae:3.81828\n",
      "[22]\tvalidation_0-mae:3.57273\n",
      "[23]\tvalidation_0-mae:3.35675\n",
      "[24]\tvalidation_0-mae:3.16716\n",
      "[25]\tvalidation_0-mae:2.99472\n",
      "[26]\tvalidation_0-mae:2.84635\n",
      "[27]\tvalidation_0-mae:2.7197\n",
      "[28]\tvalidation_0-mae:2.60129\n",
      "[29]\tvalidation_0-mae:2.50086\n",
      "[30]\tvalidation_0-mae:2.41533\n",
      "[31]\tvalidation_0-mae:2.33053\n",
      "[32]\tvalidation_0-mae:2.24199\n",
      "[33]\tvalidation_0-mae:2.18848\n",
      "[34]\tvalidation_0-mae:2.13335\n",
      "[35]\tvalidation_0-mae:2.08792\n",
      "[36]\tvalidation_0-mae:2.05546\n",
      "[37]\tvalidation_0-mae:2.01796\n",
      "[38]\tvalidation_0-mae:1.99026\n",
      "[39]\tvalidation_0-mae:1.96845\n",
      "[40]\tvalidation_0-mae:1.94432\n",
      "[41]\tvalidation_0-mae:1.91647\n",
      "[42]\tvalidation_0-mae:1.90168\n",
      "[43]\tvalidation_0-mae:1.87845\n",
      "[44]\tvalidation_0-mae:1.86905\n",
      "[45]\tvalidation_0-mae:1.85467\n",
      "[46]\tvalidation_0-mae:1.82088\n",
      "[47]\tvalidation_0-mae:1.80929\n",
      "[48]\tvalidation_0-mae:1.79141\n",
      "[49]\tvalidation_0-mae:1.7798\n",
      "[50]\tvalidation_0-mae:1.76495\n",
      "[51]\tvalidation_0-mae:1.7514\n",
      "[52]\tvalidation_0-mae:1.74431\n",
      "[53]\tvalidation_0-mae:1.73404\n",
      "[54]\tvalidation_0-mae:1.72312\n",
      "[55]\tvalidation_0-mae:1.71535\n",
      "[56]\tvalidation_0-mae:1.70502\n",
      "[57]\tvalidation_0-mae:1.69451\n",
      "[58]\tvalidation_0-mae:1.68619\n",
      "[59]\tvalidation_0-mae:1.68288\n",
      "[60]\tvalidation_0-mae:1.67571\n",
      "[61]\tvalidation_0-mae:1.67327\n",
      "[62]\tvalidation_0-mae:1.66793\n",
      "[63]\tvalidation_0-mae:1.66263\n",
      "[64]\tvalidation_0-mae:1.66027\n",
      "[65]\tvalidation_0-mae:1.64973\n",
      "[66]\tvalidation_0-mae:1.64315\n",
      "[67]\tvalidation_0-mae:1.63888\n",
      "[68]\tvalidation_0-mae:1.63523\n",
      "[69]\tvalidation_0-mae:1.63136\n",
      "[70]\tvalidation_0-mae:1.62797\n",
      "[71]\tvalidation_0-mae:1.6248\n",
      "[72]\tvalidation_0-mae:1.62037\n",
      "[73]\tvalidation_0-mae:1.61638\n",
      "[74]\tvalidation_0-mae:1.61437\n",
      "[75]\tvalidation_0-mae:1.61008\n",
      "[76]\tvalidation_0-mae:1.6042\n",
      "[77]\tvalidation_0-mae:1.6009\n",
      "[78]\tvalidation_0-mae:1.59954\n",
      "[79]\tvalidation_0-mae:1.59038\n",
      "[80]\tvalidation_0-mae:1.58905\n",
      "[81]\tvalidation_0-mae:1.5823\n",
      "[82]\tvalidation_0-mae:1.58159\n",
      "[83]\tvalidation_0-mae:1.57978\n",
      "[84]\tvalidation_0-mae:1.57668\n",
      "[85]\tvalidation_0-mae:1.57373\n",
      "[86]\tvalidation_0-mae:1.5729\n",
      "[87]\tvalidation_0-mae:1.57059\n",
      "[88]\tvalidation_0-mae:1.5664\n",
      "[89]\tvalidation_0-mae:1.56544\n",
      "[90]\tvalidation_0-mae:1.56257\n",
      "[91]\tvalidation_0-mae:1.56069\n",
      "[92]\tvalidation_0-mae:1.56037\n",
      "[93]\tvalidation_0-mae:1.5595\n",
      "[94]\tvalidation_0-mae:1.55783\n",
      "[95]\tvalidation_0-mae:1.55727\n",
      "[96]\tvalidation_0-mae:1.55538\n",
      "[97]\tvalidation_0-mae:1.55298\n",
      "[98]\tvalidation_0-mae:1.5526\n",
      "[99]\tvalidation_0-mae:1.55184\n"
     ]
    },
    {
     "data": {
      "text/plain": [
       "XGBRegressor(base_score=0.5, booster='gbtree', colsample_bylevel=1,\n",
       "       colsample_bynode=1, colsample_bytree=1, early_stopping_rounds=10,\n",
       "       gamma=0, importance_type='gain', learning_rate=0.1,\n",
       "       max_delta_step=0, max_depth=6, min_child_weight=1, missing=None,\n",
       "       n_estimators=100, n_jobs=-1, nthread=None, objective='reg:linear',\n",
       "       random_state=42, reg_alpha=0, reg_lambda=1, scale_pos_weight=1,\n",
       "       seed=None, silent=None, subsample=1, verbosity=1)"
      ]
     },
     "execution_count": 32,
     "metadata": {},
     "output_type": "execute_result"
    }
   ],
   "source": [
    "model.fit(\n",
    "    X_train, \n",
    "    y_train, \n",
    "    eval_metric=\"mae\",\n",
    "    eval_set=[(X_test, y_test)],\n",
    "    verbose=True)"
   ]
  },
  {
   "cell_type": "code",
   "execution_count": 33,
   "metadata": {},
   "outputs": [],
   "source": [
    "preds = model.predict(X_test)"
   ]
  },
  {
   "cell_type": "code",
   "execution_count": 34,
   "metadata": {},
   "outputs": [
    {
     "name": "stdout",
     "output_type": "stream",
     "text": [
      "RMSE: 3.243471\n"
     ]
    }
   ],
   "source": [
    "rmse = np.sqrt(mean_squared_error(y_test, preds))\n",
    "print(\"RMSE: %f\" % (rmse))"
   ]
  },
  {
   "cell_type": "markdown",
   "metadata": {},
   "source": [
    "#### Cross-Validation"
   ]
  },
  {
   "cell_type": "code",
   "execution_count": 36,
   "metadata": {},
   "outputs": [],
   "source": [
    "X, y = df.iloc[:,:-1],df.iloc[:,-1]"
   ]
  },
  {
   "cell_type": "code",
   "execution_count": null,
   "metadata": {},
   "outputs": [],
   "source": []
  },
  {
   "cell_type": "code",
   "execution_count": null,
   "metadata": {},
   "outputs": [],
   "source": [
    "params = {\"objective\":\"reg:linear\",'colsample_bytree': 0.3,'learning_rate': 0.1,\n",
    "                'max_depth': 5, 'alpha': 10}\n",
    "\n",
    "cv_results = xgb.cv(dtrain=data_dmatrix, params=params, nfold=3,\n",
    "                    num_boost_round=50,early_stopping_rounds=10,metrics=\"rmse\", as_pandas=True, seed=123"
   ]
  }
 ],
 "metadata": {
  "kernelspec": {
   "display_name": "Python 3",
   "language": "python",
   "name": "python3"
  },
  "language_info": {
   "codemirror_mode": {
    "name": "ipython",
    "version": 3
   },
   "file_extension": ".py",
   "mimetype": "text/x-python",
   "name": "python",
   "nbconvert_exporter": "python",
   "pygments_lexer": "ipython3",
   "version": "3.7.3"
  }
 },
 "nbformat": 4,
 "nbformat_minor": 2
}
