{
 "cells": [
  {
   "cell_type": "markdown",
   "metadata": {},
   "source": [
    "# XGBoost"
   ]
  },
  {
   "cell_type": "markdown",
   "metadata": {},
   "source": [
    "#### Import the libraries"
   ]
  },
  {
   "cell_type": "code",
   "execution_count": 8,
   "metadata": {},
   "outputs": [],
   "source": [
    "import pandas as pd\n",
    "import numpy as np\n",
    "import xgboost as xgb"
   ]
  },
  {
   "cell_type": "code",
   "execution_count": 9,
   "metadata": {},
   "outputs": [],
   "source": [
    "from numpy import loadtxt\n",
    "from xgboost import XGBClassifier\n",
    "from xgboost import XGBRegressor\n",
    "from sklearn.model_selection import train_test_split\n",
    "from sklearn.metrics import classification_report\n",
    "from sklearn.metrics import confusion_matrix\n",
    "from sklearn.metrics import accuracy_score\n",
    "from sklearn.metrics import mean_squared_error\n",
    "from scipy import stats"
   ]
  },
  {
   "cell_type": "markdown",
   "metadata": {},
   "source": [
    "### Read the data"
   ]
  },
  {
   "cell_type": "code",
   "execution_count": 10,
   "metadata": {},
   "outputs": [
    {
     "name": "stderr",
     "output_type": "stream",
     "text": [
      "/home/geanderson/anaconda3/lib/python3.7/site-packages/IPython/core/interactiveshell.py:3049: DtypeWarning: Columns (1,4,5,40) have mixed types. Specify dtype option on import or set low_memory=False.\n",
      "  interactivity=interactivity, compiler=compiler, result=result)\n"
     ]
    }
   ],
   "source": [
    "# read the data\n",
    "#df = pd.read_csv(\"../data/total_dry_no_labels.csv\", index_col=0)\n",
    "df = pd.read_csv(\"../data/total_dry_no_labels.csv\", index_col=0)\n",
    "df.columns = df.columns.str.replace(' ', '')\n",
    "#df = df.head(100000)\n",
    "#df.drop('network_count', axis=1, inplace=True)"
   ]
  },
  {
   "cell_type": "markdown",
   "metadata": {},
   "source": [
    "##### Prepare the data"
   ]
  },
  {
   "cell_type": "code",
   "execution_count": 11,
   "metadata": {},
   "outputs": [],
   "source": [
    "# delete unnamed column\n",
    "df = df.loc[:, ~df.columns.str.contains('^Unnamed')]\n",
    "# convert all columns of DataFrame\n",
    "df = df.dropna()\n",
    "# find the objects columns\n",
    "cols = df.columns[df.dtypes.eq('object')]\n",
    "# convert to numeric these columns\n",
    "df[cols] = df[cols].apply(pd.to_numeric, errors='coerce')"
   ]
  },
  {
   "cell_type": "code",
   "execution_count": 13,
   "metadata": {},
   "outputs": [
    {
     "data": {
      "text/plain": [
       "(601076, 50)"
      ]
     },
     "execution_count": 13,
     "metadata": {},
     "output_type": "execute_result"
    }
   ],
   "source": [
    "# check the shape\n",
    "df.shape"
   ]
  },
  {
   "cell_type": "markdown",
   "metadata": {},
   "source": [
    "#### Create X features and Y target"
   ]
  },
  {
   "cell_type": "code",
   "execution_count": 27,
   "metadata": {
    "scrolled": true
   },
   "outputs": [],
   "source": [
    "# split data into X and y\n",
    "array = df.values\n",
    "X = array[:,0:49]\n",
    "Y = array[:,49]"
   ]
  },
  {
   "cell_type": "code",
   "execution_count": 28,
   "metadata": {},
   "outputs": [],
   "source": [
    "# split data into train and test sets\n",
    "seed = 7\n",
    "test_size = 0.2\n",
    "X_train, X_test, y_train, y_test = train_test_split(X, Y, test_size=test_size, random_state=seed)"
   ]
  },
  {
   "cell_type": "markdown",
   "metadata": {},
   "source": [
    "#### Create the model"
   ]
  },
  {
   "cell_type": "code",
   "execution_count": 16,
   "metadata": {},
   "outputs": [],
   "source": [
    "# fit model no training data\n",
    "model = XGBRegressor(n_estimators=100,\n",
    "                    learning_rate = .1,\n",
    "                    max_depth = 6,\n",
    "                    random_state=42,\n",
    "                    n_jobs = -1,\n",
    "                    early_stopping_rounds=10)"
   ]
  },
  {
   "cell_type": "code",
   "execution_count": 17,
   "metadata": {},
   "outputs": [
    {
     "name": "stdout",
     "output_type": "stream",
     "text": [
      "[11:21:48] WARNING: /workspace/src/objective/regression_obj.cu:152: reg:linear is now deprecated in favor of reg:squarederror.\n",
      "[0]\tvalidation_0-rmse:30.9202\n",
      "[1]\tvalidation_0-rmse:27.9275\n",
      "[2]\tvalidation_0-rmse:25.2414\n",
      "[3]\tvalidation_0-rmse:22.8352\n",
      "[4]\tvalidation_0-rmse:20.6752\n",
      "[5]\tvalidation_0-rmse:18.7406\n",
      "[6]\tvalidation_0-rmse:16.9884\n",
      "[7]\tvalidation_0-rmse:15.4115\n",
      "[8]\tvalidation_0-rmse:14.0161\n",
      "[9]\tvalidation_0-rmse:12.761\n",
      "[10]\tvalidation_0-rmse:11.6619\n",
      "[11]\tvalidation_0-rmse:10.6807\n",
      "[12]\tvalidation_0-rmse:9.79363\n",
      "[13]\tvalidation_0-rmse:9.0231\n",
      "[14]\tvalidation_0-rmse:8.32633\n",
      "[15]\tvalidation_0-rmse:7.72623\n",
      "[16]\tvalidation_0-rmse:7.20214\n",
      "[17]\tvalidation_0-rmse:6.72755\n",
      "[18]\tvalidation_0-rmse:6.32531\n",
      "[19]\tvalidation_0-rmse:5.96324\n",
      "[20]\tvalidation_0-rmse:5.65257\n",
      "[21]\tvalidation_0-rmse:5.38239\n",
      "[22]\tvalidation_0-rmse:5.15265\n",
      "[23]\tvalidation_0-rmse:4.96165\n",
      "[24]\tvalidation_0-rmse:4.78939\n",
      "[25]\tvalidation_0-rmse:4.6363\n",
      "[26]\tvalidation_0-rmse:4.50556\n",
      "[27]\tvalidation_0-rmse:4.40619\n",
      "[28]\tvalidation_0-rmse:4.28646\n",
      "[29]\tvalidation_0-rmse:4.19903\n",
      "[30]\tvalidation_0-rmse:4.11429\n",
      "[31]\tvalidation_0-rmse:4.03432\n",
      "[32]\tvalidation_0-rmse:3.93909\n",
      "[33]\tvalidation_0-rmse:3.87662\n",
      "[34]\tvalidation_0-rmse:3.83063\n",
      "[35]\tvalidation_0-rmse:3.7862\n",
      "[36]\tvalidation_0-rmse:3.74855\n",
      "[37]\tvalidation_0-rmse:3.71978\n",
      "[38]\tvalidation_0-rmse:3.67566\n",
      "[39]\tvalidation_0-rmse:3.65767\n",
      "[40]\tvalidation_0-rmse:3.62514\n",
      "[41]\tvalidation_0-rmse:3.60982\n",
      "[42]\tvalidation_0-rmse:3.59289\n",
      "[43]\tvalidation_0-rmse:3.56392\n",
      "[44]\tvalidation_0-rmse:3.55523\n",
      "[45]\tvalidation_0-rmse:3.53062\n",
      "[46]\tvalidation_0-rmse:3.51616\n",
      "[47]\tvalidation_0-rmse:3.50538\n",
      "[48]\tvalidation_0-rmse:3.50067\n",
      "[49]\tvalidation_0-rmse:3.48846\n",
      "[50]\tvalidation_0-rmse:3.44634\n",
      "[51]\tvalidation_0-rmse:3.43719\n",
      "[52]\tvalidation_0-rmse:3.43183\n",
      "[53]\tvalidation_0-rmse:3.42221\n",
      "[54]\tvalidation_0-rmse:3.40299\n",
      "[55]\tvalidation_0-rmse:3.39216\n",
      "[56]\tvalidation_0-rmse:3.3682\n",
      "[57]\tvalidation_0-rmse:3.35696\n",
      "[58]\tvalidation_0-rmse:3.34712\n",
      "[59]\tvalidation_0-rmse:3.33668\n",
      "[60]\tvalidation_0-rmse:3.31651\n",
      "[61]\tvalidation_0-rmse:3.30603\n",
      "[62]\tvalidation_0-rmse:3.28449\n",
      "[63]\tvalidation_0-rmse:3.27537\n",
      "[64]\tvalidation_0-rmse:3.26581\n",
      "[65]\tvalidation_0-rmse:3.26329\n",
      "[66]\tvalidation_0-rmse:3.26021\n",
      "[67]\tvalidation_0-rmse:3.24201\n",
      "[68]\tvalidation_0-rmse:3.241\n",
      "[69]\tvalidation_0-rmse:3.23982\n",
      "[70]\tvalidation_0-rmse:3.23122\n",
      "[71]\tvalidation_0-rmse:3.22452\n",
      "[72]\tvalidation_0-rmse:3.2183\n",
      "[73]\tvalidation_0-rmse:3.21658\n",
      "[74]\tvalidation_0-rmse:3.20833\n",
      "[75]\tvalidation_0-rmse:3.19793\n",
      "[76]\tvalidation_0-rmse:3.18988\n",
      "[77]\tvalidation_0-rmse:3.18561\n",
      "[78]\tvalidation_0-rmse:3.18252\n",
      "[79]\tvalidation_0-rmse:3.17775\n",
      "[80]\tvalidation_0-rmse:3.17126\n",
      "[81]\tvalidation_0-rmse:3.16146\n",
      "[82]\tvalidation_0-rmse:3.15989\n",
      "[83]\tvalidation_0-rmse:3.15463\n",
      "[84]\tvalidation_0-rmse:3.15091\n",
      "[85]\tvalidation_0-rmse:3.15021\n",
      "[86]\tvalidation_0-rmse:3.14708\n",
      "[87]\tvalidation_0-rmse:3.14692\n",
      "[88]\tvalidation_0-rmse:3.14246\n",
      "[89]\tvalidation_0-rmse:3.14107\n",
      "[90]\tvalidation_0-rmse:3.13532\n",
      "[91]\tvalidation_0-rmse:3.13123\n",
      "[92]\tvalidation_0-rmse:3.13003\n",
      "[93]\tvalidation_0-rmse:3.12924\n",
      "[94]\tvalidation_0-rmse:3.12805\n",
      "[95]\tvalidation_0-rmse:3.1269\n",
      "[96]\tvalidation_0-rmse:3.12449\n",
      "[97]\tvalidation_0-rmse:3.12086\n",
      "[98]\tvalidation_0-rmse:3.12083\n",
      "[99]\tvalidation_0-rmse:3.12041\n"
     ]
    },
    {
     "data": {
      "text/plain": [
       "XGBRegressor(base_score=0.5, booster='gbtree', colsample_bylevel=1,\n",
       "       colsample_bynode=1, colsample_bytree=1, early_stopping_rounds=10,\n",
       "       gamma=0, importance_type='gain', learning_rate=0.1,\n",
       "       max_delta_step=0, max_depth=6, min_child_weight=1, missing=None,\n",
       "       n_estimators=100, n_jobs=-1, nthread=None, objective='reg:linear',\n",
       "       random_state=42, reg_alpha=0, reg_lambda=1, scale_pos_weight=1,\n",
       "       seed=None, silent=None, subsample=1, verbosity=1)"
      ]
     },
     "execution_count": 17,
     "metadata": {},
     "output_type": "execute_result"
    }
   ],
   "source": [
    "model.fit(\n",
    "    X_train, \n",
    "    y_train, \n",
    "    eval_metric=\"rmse\",\n",
    "    eval_set=[(X_test, y_test)],\n",
    "    verbose=True)"
   ]
  },
  {
   "cell_type": "code",
   "execution_count": 18,
   "metadata": {},
   "outputs": [],
   "source": [
    "preds = model.predict(X_test)"
   ]
  },
  {
   "cell_type": "code",
   "execution_count": 19,
   "metadata": {},
   "outputs": [
    {
     "name": "stdout",
     "output_type": "stream",
     "text": [
      "RMSE: 3.120412\n"
     ]
    }
   ],
   "source": [
    "rmse = np.sqrt(mean_squared_error(y_test, preds))\n",
    "print(\"RMSE: %f\" % (rmse))"
   ]
  },
  {
   "cell_type": "markdown",
   "metadata": {},
   "source": [
    "#### Cross-Validation"
   ]
  },
  {
   "cell_type": "code",
   "execution_count": 20,
   "metadata": {},
   "outputs": [],
   "source": [
    "X, y = df.iloc[:,:-1],df.iloc[:,-1]"
   ]
  },
  {
   "cell_type": "code",
   "execution_count": 21,
   "metadata": {},
   "outputs": [
    {
     "name": "stderr",
     "output_type": "stream",
     "text": [
      "/home/geanderson/anaconda3/lib/python3.7/site-packages/xgboost/core.py:587: FutureWarning: Series.base is deprecated and will be removed in a future version\n",
      "  if getattr(data, 'base', None) is not None and \\\n",
      "/home/geanderson/anaconda3/lib/python3.7/site-packages/xgboost/core.py:588: FutureWarning: Series.base is deprecated and will be removed in a future version\n",
      "  data.base is not None and isinstance(data, np.ndarray) \\\n"
     ]
    }
   ],
   "source": [
    "data_dmatrix = xgb.DMatrix(data=X,label=y)"
   ]
  },
  {
   "cell_type": "code",
   "execution_count": 22,
   "metadata": {},
   "outputs": [],
   "source": [
    "params = {\"objective\":\"reg:linear\",'colsample_bytree': 0.3,'learning_rate': 0.1,\n",
    "                'max_depth': 5, 'alpha': 10}"
   ]
  },
  {
   "cell_type": "code",
   "execution_count": 23,
   "metadata": {},
   "outputs": [
    {
     "name": "stdout",
     "output_type": "stream",
     "text": [
      "[11:22:37] WARNING: /workspace/src/objective/regression_obj.cu:152: reg:linear is now deprecated in favor of reg:squarederror.\n",
      "[11:22:38] WARNING: /workspace/src/objective/regression_obj.cu:152: reg:linear is now deprecated in favor of reg:squarederror.\n",
      "[11:22:39] WARNING: /workspace/src/objective/regression_obj.cu:152: reg:linear is now deprecated in favor of reg:squarederror.\n"
     ]
    }
   ],
   "source": [
    "cv_results = xgb.cv(dtrain=data_dmatrix, params=params, nfold=3,\n",
    "                    num_boost_round=50, early_stopping_rounds=10, \n",
    "                    metrics=\"rmse\", as_pandas=True, seed=seed)"
   ]
  },
  {
   "cell_type": "code",
   "execution_count": 24,
   "metadata": {},
   "outputs": [
    {
     "name": "stdout",
     "output_type": "stream",
     "text": [
      "49    4.501214\n",
      "Name: test-rmse-mean, dtype: float64\n"
     ]
    }
   ],
   "source": [
    "print((cv_results[\"test-rmse-mean\"]).tail(1))"
   ]
  },
  {
   "cell_type": "markdown",
   "metadata": {},
   "source": [
    "#### Feature Importance"
   ]
  },
  {
   "cell_type": "code",
   "execution_count": 25,
   "metadata": {},
   "outputs": [
    {
     "name": "stdout",
     "output_type": "stream",
     "text": [
      "[11:23:06] WARNING: /workspace/src/objective/regression_obj.cu:152: reg:linear is now deprecated in favor of reg:squarederror.\n"
     ]
    }
   ],
   "source": [
    "model = xgb.train(params=params, dtrain=data_dmatrix, num_boost_round=10)"
   ]
  },
  {
   "cell_type": "code",
   "execution_count": 26,
   "metadata": {
    "scrolled": true
   },
   "outputs": [
    {
     "data": {
      "text/plain": [
       "<Figure size 10000x10000 with 1 Axes>"
      ]
     },
     "metadata": {},
     "output_type": "display_data"
    }
   ],
   "source": [
    "import matplotlib.pyplot as plt\n",
    "\n",
    "xgb.plot_tree(model,num_trees=4)\n",
    "fig = plt.gcf()\n",
    "fig.set_size_inches(100, 100)\n",
    "#plt.rcParams['figure.figsize'] = [100, 100]\n",
    "plt.savefig('../reports/tree.png')\n",
    "plt.show()"
   ]
  },
  {
   "cell_type": "code",
   "execution_count": null,
   "metadata": {},
   "outputs": [],
   "source": []
  }
 ],
 "metadata": {
  "kernelspec": {
   "display_name": "Python 3",
   "language": "python",
   "name": "python3"
  },
  "language_info": {
   "codemirror_mode": {
    "name": "ipython",
    "version": 3
   },
   "file_extension": ".py",
   "mimetype": "text/x-python",
   "name": "python",
   "nbconvert_exporter": "python",
   "pygments_lexer": "ipython3",
   "version": "3.7.3"
  }
 },
 "nbformat": 4,
 "nbformat_minor": 2
}
