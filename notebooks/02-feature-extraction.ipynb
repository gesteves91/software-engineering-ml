{
 "cells": [
  {
   "cell_type": "markdown",
   "metadata": {},
   "source": [
    "# Tranform the Github Data  "
   ]
  },
  {
   "cell_type": "markdown",
   "metadata": {},
   "source": [
    "#### Read the data"
   ]
  },
  {
   "cell_type": "code",
   "execution_count": 8,
   "metadata": {
    "pycharm": {
     "is_executing": false
    }
   },
   "outputs": [],
   "source": [
    "# import the libraries\n",
    "import pandas as pd\n",
    "import numpy as np\n",
    "import sys"
   ]
  },
  {
   "cell_type": "code",
   "execution_count": 9,
   "metadata": {},
   "outputs": [],
   "source": [
    "pd.set_option('display.max_rows', 500)\n",
    "pd.set_option('display.max_columns', 500)\n",
    "pd.set_option('display.width', 1000)"
   ]
  },
  {
   "cell_type": "code",
   "execution_count": 10,
   "metadata": {
    "pycharm": {
     "is_executing": false
    }
   },
   "outputs": [],
   "source": [
    "# read the data\n",
    "df = pd.read_csv(\"../data/total_processed.csv\", index_col=0)"
   ]
  },
  {
   "cell_type": "code",
   "execution_count": 11,
   "metadata": {},
   "outputs": [
    {
     "output_type": "execute_result",
     "data": {
      "text/plain": "(601078, 66)"
     },
     "metadata": {},
     "execution_count": 11
    }
   ],
   "source": [
    "df.shape"
   ]
  },
  {
   "cell_type": "markdown",
   "metadata": {},
   "source": [
    "### Mean of the commit label"
   ]
  },
  {
   "cell_type": "code",
   "execution_count": 12,
   "metadata": {},
   "outputs": [],
   "source": [
    "def mean(items):\n",
    "    index = 0\n",
    "    result = []\n",
    "    value = 0\n",
    "\n",
    "    for item in items:\n",
    "        index = index + 1\n",
    "\n",
    "        if item == 1:\n",
    "            value = value + 1\n",
    "\n",
    "        result.append((value/index)*100)\n",
    "\n",
    "    return result"
   ]
  },
  {
   "cell_type": "code",
   "execution_count": 13,
   "metadata": {},
   "outputs": [],
   "source": [
    "# create a dictionary project_name + mean_values for the commit classification\n",
    "projects = df['name'].unique()\n",
    "commit_mean_dict = {}\n",
    "\n",
    "for project in projects:\n",
    "    commits = df[df.name==project].results\n",
    "    mean_commits = mean(commits)\n",
    "    commit_mean_dict[project] = mean_commits"
   ]
  },
  {
   "cell_type": "code",
   "execution_count": 14,
   "metadata": {},
   "outputs": [],
   "source": [
    "# replace all the data\n",
    "df['mean_commits'] = 0\n",
    "\n",
    "for project in projects:\n",
    "    df.loc[df['name'] == project, 'mean_commits'] = commit_mean_dict[project]"
   ]
  },
  {
   "cell_type": "markdown",
   "metadata": {},
   "source": [
    "### Variance of the column results"
   ]
  },
  {
   "cell_type": "code",
   "execution_count": 15,
   "metadata": {},
   "outputs": [],
   "source": [
    "for project in projects:\n",
    "    df.loc[df['name'] == project, 'variance_commits'] = df[df['name']==project][['results', 'mean_commits']].var(ddof=0, axis=1)"
   ]
  },
  {
   "cell_type": "markdown",
   "metadata": {},
   "source": [
    "### Set the phases of the project"
   ]
  },
  {
   "cell_type": "code",
   "execution_count": 16,
   "metadata": {},
   "outputs": [],
   "source": [
    "df = df.drop(df[df.sha == 'f5d7eb5b623b625062cf0d3d8d552ee0ea9000dd'].index)"
   ]
  },
  {
   "cell_type": "code",
   "execution_count": 17,
   "metadata": {},
   "outputs": [],
   "source": [
    "def phases(entire_data):\n",
    "    len_project = len(entire_data)\n",
    "    phases = []\n",
    "    \n",
    "    end_phase_1 = len_project / 3\n",
    "    end_phase_1 = int(end_phase_1)\n",
    "    end_phase_2 = end_phase_1 + end_phase_1\n",
    "    end_phase_2 = int(end_phase_2)\n",
    "\n",
    "    i = 0\n",
    "\n",
    "    for item in entire_data:\n",
    "        if i < end_phase_1:\n",
    "            phases.append(1)\n",
    "            i = i + 1\n",
    "        elif i >= end_phase_1 and i < end_phase_2:\n",
    "            phases.append(2)\n",
    "            i = i + 1\n",
    "        else:\n",
    "            phases.append(3)\n",
    "            i = i + 1\n",
    "        \n",
    "    return phases"
   ]
  },
  {
   "cell_type": "code",
   "execution_count": 18,
   "metadata": {},
   "outputs": [],
   "source": [
    "# create a dictionary project_name + phases for the commit classification\n",
    "commit_phases_dict = {}\n",
    "\n",
    "for project in projects:\n",
    "    commits = df[df.name==project].results\n",
    "    phases_commits = phases(commits)\n",
    "    commit_phases_dict[project] = phases_commits"
   ]
  },
  {
   "cell_type": "code",
   "execution_count": 19,
   "metadata": {},
   "outputs": [],
   "source": [
    "# replace all the data\n",
    "df['phases_project'] = 0\n",
    "\n",
    "for project in projects:\n",
    "    df.loc[df['name'] == project, 'phases_project'] = commit_phases_dict[project]"
   ]
  },
  {
   "cell_type": "code",
   "execution_count": 20,
   "metadata": {},
   "outputs": [],
   "source": [
    "df = pd.get_dummies(df, columns = [\"phases_project\"])"
   ]
  },
  {
   "cell_type": "code",
   "execution_count": 21,
   "metadata": {},
   "outputs": [],
   "source": [
    "#df[df['name']=='django']"
   ]
  },
  {
   "cell_type": "markdown",
   "metadata": {},
   "source": [
    "#### Fill NAN values that can be filled with 0"
   ]
  },
  {
   "cell_type": "code",
   "execution_count": 22,
   "metadata": {},
   "outputs": [],
   "source": [
    "df['comment_count'] = df['comment_count'].fillna(0)"
   ]
  },
  {
   "cell_type": "markdown",
   "metadata": {},
   "source": [
    "#### Send the mean_commits to the end"
   ]
  },
  {
   "cell_type": "code",
   "execution_count": 23,
   "metadata": {},
   "outputs": [],
   "source": [
    "# test the mean_commits as a regression problem\n",
    "results = df.mean_commits.values\n",
    "df = df.drop(\"mean_commits\", axis=1)\n",
    "df['mean_commits'] = results "
   ]
  },
  {
   "cell_type": "code",
   "execution_count": 24,
   "metadata": {},
   "outputs": [],
   "source": [
    "# save the csv\n",
    "df.to_csv('../data/total_transformed.csv')"
   ]
  },
  {
   "cell_type": "code",
   "execution_count": null,
   "metadata": {},
   "outputs": [],
   "source": []
  }
 ],
 "metadata": {
  "kernelspec": {
   "display_name": "Python 3",
   "language": "python",
   "name": "python3"
  },
  "language_info": {
   "codemirror_mode": {
    "name": "ipython",
    "version": 3
   },
   "file_extension": ".py",
   "mimetype": "text/x-python",
   "name": "python",
   "nbconvert_exporter": "python",
   "pygments_lexer": "ipython3",
   "version": "3.8.2-final"
  },
  "pycharm": {
   "stem_cell": {
    "cell_type": "raw",
    "metadata": {
     "collapsed": false
    },
    "source": []
   }
  }
 },
 "nbformat": 4,
 "nbformat_minor": 4
}