{
 "cells": [
  {
   "cell_type": "code",
   "execution_count": 4,
   "metadata": {
    "pycharm": {
     "is_executing": false
    }
   },
   "outputs": [],
   "source": [
    "# import the libraries\n",
    "import pandas as pd\n",
    "import numpy as np\n",
    "import sys"
   ]
  },
  {
   "cell_type": "code",
   "execution_count": 5,
   "metadata": {
    "pycharm": {
     "is_executing": false
    }
   },
   "outputs": [
    {
     "name": "stderr",
     "output_type": "stream",
     "text": [
      "/home/geanderson/anaconda3/lib/python3.7/site-packages/IPython/core/interactiveshell.py:3049: DtypeWarning: Columns (0,6,7) have mixed types. Specify dtype option on import or set low_memory=False.\n",
      "  interactivity=interactivity, compiler=compiler, result=result)\n"
     ]
    }
   ],
   "source": [
    "# read the data\n",
    "df = pd.read_csv(\"../data/total_processed.csv\", index_col=0)"
   ]
  },
  {
   "cell_type": "code",
   "execution_count": 6,
   "metadata": {},
   "outputs": [
    {
     "data": {
      "text/plain": [
       "Index(['sha', 'message', 'comment_count', 'date', 'total_deletions',\n",
       "       'total_additions', 'total', 'comments', 'additions', 'deletions',\n",
       "       'changes', 'status', 'filenames', 'name', 'fullname', 'private', 'fork',\n",
       "       'size', 'watchers_count', 'has_issues', 'has_downloads', 'has_wiki',\n",
       "       'forks_count', 'open_issues_count', 'forks', 'open_issues', 'watchers',\n",
       "       'network_count', 'type', 'admin', 'push', 'pull', 'label', 'owner',\n",
       "       'language_C', 'language_C#', 'language_C++', 'language_CSS',\n",
       "       'language_CoffeeScript', 'language_Go', 'language_Java',\n",
       "       'language_JavaScript', 'language_PHP', 'language_Perl',\n",
       "       'language_Python', 'language_R', 'language_Ruby', 'language_Scala',\n",
       "       'language_Shell', 'language_TypeScript', 'total_files', 'results'],\n",
       "      dtype='object')"
      ]
     },
     "execution_count": 6,
     "metadata": {},
     "output_type": "execute_result"
    }
   ],
   "source": [
    "df.columns"
   ]
  },
  {
   "cell_type": "markdown",
   "metadata": {},
   "source": [
    "### Mean of the commit label"
   ]
  },
  {
   "cell_type": "code",
   "execution_count": 7,
   "metadata": {},
   "outputs": [],
   "source": [
    "def mean(items):\n",
    "    index = 0\n",
    "    result = []\n",
    "    value = 0\n",
    "\n",
    "    for item in items:\n",
    "        index = index + 1\n",
    "\n",
    "        if item == 1:\n",
    "            value = value + 1\n",
    "\n",
    "        result.append((value/index)*100)\n",
    "\n",
    "    return result"
   ]
  },
  {
   "cell_type": "code",
   "execution_count": 8,
   "metadata": {},
   "outputs": [],
   "source": [
    "# create a dictionary project_name + mean_values for the commit classification\n",
    "projects = df['name'].unique()\n",
    "commit_mean_dict = {}\n",
    "\n",
    "for project in projects:\n",
    "    commits = df[df.name==project].results\n",
    "    mean_commits = mean(commits)\n",
    "    commit_mean_dict[project] = mean_commits"
   ]
  },
  {
   "cell_type": "code",
   "execution_count": 9,
   "metadata": {},
   "outputs": [],
   "source": [
    "# replace all the data\n",
    "df['mean_commits'] = 0\n",
    "\n",
    "for project in projects:\n",
    "    df.loc[df['name'] == project, 'mean_commits'] = commit_mean_dict[project]"
   ]
  },
  {
   "cell_type": "markdown",
   "metadata": {},
   "source": [
    "### Derivate all the columns"
   ]
  },
  {
   "cell_type": "code",
   "execution_count": 29,
   "metadata": {},
   "outputs": [],
   "source": [
    "def derive(items):\n",
    "    i = 1\n",
    "    result = []\n",
    "    result.append(0)\n",
    "\n",
    "    while i < len(items):\n",
    "        if items[i-1] == 0:\n",
    "            result.append((items[i]-items[i-1]))\n",
    "            i = i + 1\n",
    "        else:\n",
    "            result.append((items[i]-items[i-1])/items[i-1])\n",
    "            i = i + 1\n",
    "\n",
    "    return result"
   ]
  },
  {
   "cell_type": "code",
   "execution_count": 30,
   "metadata": {},
   "outputs": [],
   "source": [
    "for column in df.columns:\n",
    "    col_values = derive(df[column].values)\n",
    "    df[column+'_derivate'] = col_values"
   ]
  },
  {
   "cell_type": "code",
   "execution_count": 31,
   "metadata": {},
   "outputs": [],
   "source": [
    "df = df.drop(\"commit_derivate\", axis=1)"
   ]
  },
  {
   "cell_type": "code",
   "execution_count": 32,
   "metadata": {},
   "outputs": [],
   "source": [
    "results = df.commit.values"
   ]
  },
  {
   "cell_type": "code",
   "execution_count": 33,
   "metadata": {},
   "outputs": [],
   "source": [
    "df = df.drop(\"commit\", axis=1)"
   ]
  },
  {
   "cell_type": "code",
   "execution_count": 34,
   "metadata": {},
   "outputs": [],
   "source": [
    "df['commit'] = results "
   ]
  },
  {
   "cell_type": "code",
   "execution_count": 35,
   "metadata": {},
   "outputs": [
    {
     "data": {
      "text/plain": [
       "0    407761\n",
       "1    193316\n",
       "Name: commit, dtype: int64"
      ]
     },
     "execution_count": 35,
     "metadata": {},
     "output_type": "execute_result"
    }
   ],
   "source": [
    "df.commit.value_counts()"
   ]
  },
  {
   "cell_type": "code",
   "execution_count": null,
   "metadata": {},
   "outputs": [],
   "source": [
    "df.to_csv('commits_transformed_new.csv')"
   ]
  },
  {
   "cell_type": "code",
   "execution_count": null,
   "metadata": {},
   "outputs": [],
   "source": []
  }
 ],
 "metadata": {
  "kernelspec": {
   "display_name": "Python 3",
   "language": "python",
   "name": "python3"
  },
  "language_info": {
   "codemirror_mode": {
    "name": "ipython",
    "version": 3
   },
   "file_extension": ".py",
   "mimetype": "text/x-python",
   "name": "python",
   "nbconvert_exporter": "python",
   "pygments_lexer": "ipython3",
   "version": "3.7.3"
  },
  "pycharm": {
   "stem_cell": {
    "cell_type": "raw",
    "metadata": {
     "collapsed": false
    },
    "source": []
   }
  }
 },
 "nbformat": 4,
 "nbformat_minor": 2
}
