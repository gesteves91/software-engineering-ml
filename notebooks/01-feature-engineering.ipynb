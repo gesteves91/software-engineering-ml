{
 "cells": [
  {
   "cell_type": "markdown",
   "metadata": {},
   "source": [
    "# Feature Engineering Github Data"
   ]
  },
  {
   "cell_type": "code",
   "execution_count": 31,
   "metadata": {},
   "outputs": [],
   "source": [
    "# import libraries\n",
    "import pandas as pd\n",
    "import numpy as np"
   ]
  },
  {
   "cell_type": "code",
   "execution_count": 32,
   "metadata": {},
   "outputs": [],
   "source": [
    "pd.set_option('display.max_rows', 500)\n",
    "pd.set_option('display.max_columns', 500)\n",
    "pd.set_option('display.width', 1000)"
   ]
  },
  {
   "cell_type": "code",
   "execution_count": 33,
   "metadata": {},
   "outputs": [],
   "source": [
    "# read the data\n",
    "df = pd.read_csv(\"../data/total.csv\")\n",
    "#df = pd.read_csv(\"../data/raw_data.csv\")"
   ]
  },
  {
   "cell_type": "code",
   "execution_count": 34,
   "metadata": {},
   "outputs": [
    {
     "data": {
      "text/plain": [
       "homebrew                               46737\n",
       "rails                                  46135\n",
       "xbmc                                   45667\n",
       "mono                                   44282\n",
       "mongo                                  23904\n",
       "TrinityCore                            23898\n",
       "zf2                                    22578\n",
       "symfony                                21154\n",
       "django                                 20477\n",
       "scala                                  19180\n",
       "diaspora                               15625\n",
       "cakephp                                15571\n",
       "node                                   13257\n",
       "akka                                   12069\n",
       "CodeIgniter                             8755\n",
       "jquery                                  8521\n",
       "openFrameworks                          8367\n",
       "gitlabhq                                7869\n",
       "ravendb                                 7796\n",
       "netty                                   7633\n",
       "MaNGOS                                  7252\n",
       "three.js                                7180\n",
       "elasticsearch                           7147\n",
       "django-cms                              6946\n",
       "hiphop-php                              6933\n",
       "libgit2                                 6852\n",
       "boto                                    5995\n",
       "bitcoin                                 5259\n",
       "redis                                   5255\n",
       "Sick-Beard                              5067\n",
       "SignalR                                 5062\n",
       "reddit                                  4688\n",
       "CraftBukkit                             4615\n",
       "phpunit                                 4572\n",
       "foundation                              4356\n",
       "Nancy                                   4027\n",
       "ServiceStack                            3891\n",
       "SparkleShare                            3813\n",
       "d3                                      3638\n",
       "requests                                3585\n",
       "jekyll                                  3507\n",
       "compass                                 3314\n",
       "libuv                                   3248\n",
       "ThinkUp                                 3106\n",
       "knitr                                   3016\n",
       "octopress                               2939\n",
       "sbt                                     2868\n",
       "devise                                  2859\n",
       "finagle                                 2797\n",
       "clojure                                 2705\n",
       "android                                 2599\n",
       "phantomjs                               2394\n",
       "flask                                   2366\n",
       "tornado                                 2286\n",
       "storm                                   2116\n",
       "scalatra                                2086\n",
       "html5-boilerplate                       1901\n",
       "paperclip                               1862\n",
       "ActionBarSherlock                       1650\n",
       "chosen                                  1599\n",
       "Slim                                    1587\n",
       "gizzard                                 1356\n",
       "mosh                                    1194\n",
       "zipkin                                  1183\n",
       "devtools                                1065\n",
       "django-debug-toolbar                    1048\n",
       "plupload                                1042\n",
       "memcached                               1022\n",
       "kestrel                                 1016\n",
       "MiniProfiler                             959\n",
       "RestSharp                                942\n",
       "shiny                                    932\n",
       "flockdb                                  760\n",
       "beanstalkd                               747\n",
       "facebook-android-sdk                     626\n",
       "AutoMapper                               607\n",
       "ccv                                      555\n",
       "Font-Awesome                             546\n",
       "impress.js                               539\n",
       "blueprint-css                            506\n",
       "redcarpet                                472\n",
       "folly                                    457\n",
       "http-parser                              456\n",
       "httpie                                   453\n",
       "xsbt                                     409\n",
       "rails-1                                  308\n",
       "xbmca10                                  290\n",
       "kepler                                   261\n",
       "uwom-server                              252\n",
       "TC-Eluna-3.3.5a                          251\n",
       "bitcoin-git                              215\n",
       "php-sdk                                  184\n",
       "Homebrew                                 166\n",
       "redis-2.6                                144\n",
       "thinkup                                  125\n",
       "al335                                    117\n",
       "zanshin                                  112\n",
       "ProjectTemplate                          107\n",
       "ZoneEmuWotlk                             102\n",
       "doom3.gpl                                 91\n",
       "primecoin                                 89\n",
       "stat-cookbook                             57\n",
       "node-1                                    53\n",
       "vinc.cc                                   51\n",
       "zf2-testserver                            44\n",
       "scala-github                              42\n",
       "codeigniter                               39\n",
       "mangos                                    32\n",
       "netty-1                                   29\n",
       "homebrew-core                             28\n",
       "node-fork                                 25\n",
       "NerdBukkit                                24\n",
       "mac-homebrew                              24\n",
       "blog                                      22\n",
       "XBMC                                      22\n",
       "tornado-spdy                              21\n",
       "namecoin                                  18\n",
       "CodeIgniter-1                             18\n",
       "mono-1                                    16\n",
       "ChaosCore                                 16\n",
       "TrinityCore_434                           15\n",
       "django-1                                  15\n",
       "linuxbrew                                 15\n",
       "github-android                            15\n",
       "RestSharp-.NET-2.0-Fork                   14\n",
       "CraftBukkit-Bleeding                      13\n",
       "scala-dev                                 13\n",
       "django-cms-2.0                            12\n",
       "greenscreen-css                           11\n",
       "chosen-with-templates                     11\n",
       "Storybook                                 11\n",
       "bitcoin-translation                       11\n",
       "SlimPaces                                 10\n",
       "prettyredcarpet                           10\n",
       "less-boilerplate                           9\n",
       "bitcoin-1                                  9\n",
       "GitHub-Android                             8\n",
       "symfony2                                   7\n",
       "PDOinCodeigniter2                          7\n",
       "homebrew-imxiaobo                          6\n",
       "iodoom3                                    6\n",
       "myredis                                    6\n",
       "litecoin-old                               6\n",
       "homebrew-homebrew                          5\n",
       "CommunityCraftBukkit                       5\n",
       "node-doc                                   4\n",
       "foundation-1                               4\n",
       "octopress-local                            4\n",
       "rude-rails                                 4\n",
       "barchart-project-netty                     3\n",
       "TrinityNya                                 3\n",
       "nose.js                                    3\n",
       "zurb-foundation                            3\n",
       "solidbrew                                  3\n",
       "Public-GitLab                              3\n",
       "zf2-sqlsrv                                 3\n",
       "rails-random                               3\n",
       "mangos-master                              3\n",
       "chosen-hacks                               3\n",
       "html5-boilerplate-ui                       2\n",
       "tornado_postgreSQL                         2\n",
       "homebrew-macvimsplitbrowser                2\n",
       "Agony-WoW-Core                             2\n",
       "ThinkUp-1                                  2\n",
       "contrib-node                               2\n",
       "EMC-CraftBukkit                            2\n",
       "trinitycore                                2\n",
       "typhoon                                    2\n",
       "TrinityCore_MOP                            2\n",
       "slides.php                                 2\n",
       "jquery-1                                   2\n",
       "cakephp-1                                  2\n",
       "litecoin                                   2\n",
       "haml-boilerplate                           2\n",
       "TrinityCoreFork                            2\n",
       "liboio                                     2\n",
       "gitlabhq-l18n                              2\n",
       "jquery-KP                                  2\n",
       "redis-comment                              2\n",
       "ravendb-WithIndexWarmerPlugin              2\n",
       "AutoMapperThreadSafe                       2\n",
       "bitcoin4pools                              2\n",
       "mpov.timmorgan.org                         2\n",
       "pm-xbmc                                    1\n",
       "symfony-fix-form-validation-italian        1\n",
       "CraftBukkit-1                              1\n",
       "ssheldon.github.com                        1\n",
       "SickBeard                                  1\n",
       "xbmc-1                                     1\n",
       "jakemcc.github.com                         1\n",
       "PR4TC                                      1\n",
       "symfony-1                                  1\n",
       "plupload-1                                 1\n",
       "BlackSun                                   1\n",
       "octopress-bosshack                         1\n",
       "zf2-1                                      1\n",
       "jquery-nodom                               1\n",
       "contrib-libuv                              1\n",
       "VistaTC                                    1\n",
       "nodejs                                     1\n",
       "scala-1                                    1\n",
       "spidernode-upstreaming                     1\n",
       "accessible-boilerplate                     1\n",
       "Kingswow                                   1\n",
       "WoW4.3.4                                   1\n",
       "enhanced-html5-boilerplate                 1\n",
       "barchart-twitter-finagle                   1\n",
       "xhtml5-boilerplate                         1\n",
       "BizzyCore                                  1\n",
       "DateTimeRange-symfony                      1\n",
       "victor.sh                                  1\n",
       "homebrew-alt                               1\n",
       "ActionBarSherlock-updlibs                  1\n",
       "Dartk-Core                                 1\n",
       "GitHub-android                             1\n",
       "redis-1                                    1\n",
       "Name: name, dtype: int64"
      ]
     },
     "execution_count": 34,
     "metadata": {},
     "output_type": "execute_result"
    }
   ],
   "source": [
    "# checking the data shape\n",
    "df.name.value_counts()"
   ]
  },
  {
   "cell_type": "markdown",
   "metadata": {},
   "source": [
    "### One hot-encoding"
   ]
  },
  {
   "cell_type": "code",
   "execution_count": 35,
   "metadata": {},
   "outputs": [],
   "source": [
    "# import preprocessing from sklearn\n",
    "from sklearn import preprocessing\n",
    "le = preprocessing.LabelEncoder()"
   ]
  },
  {
   "cell_type": "code",
   "execution_count": 36,
   "metadata": {},
   "outputs": [
    {
     "data": {
      "text/plain": [
       "Ruby            131266\n",
       "PHP              77864\n",
       "C                73122\n",
       "C#               70584\n",
       "C++              67798\n",
       "Python           52618\n",
       "Scala            44034\n",
       "JavaScript       41450\n",
       "Java             29195\n",
       "TypeScript        4904\n",
       "R                 4313\n",
       "CSS               2910\n",
       "Go                 905\n",
       "CoffeeScript        76\n",
       "Perl                32\n",
       "Shell                2\n",
       "Name: language, dtype: int64"
      ]
     },
     "execution_count": 36,
     "metadata": {},
     "output_type": "execute_result"
    }
   ],
   "source": [
    "df.language.value_counts()"
   ]
  },
  {
   "cell_type": "code",
   "execution_count": 37,
   "metadata": {},
   "outputs": [],
   "source": [
    "# encoding these columns that are 0/1\n",
    "df['private'] = le.fit_transform(df.private.values)\n",
    "df['fork'] = le.fit_transform(df.fork.values)\n",
    "df['has_issues'] = le.fit_transform(df.has_issues.values)\n",
    "df['has_downloads'] = le.fit_transform(df.has_downloads.values)\n",
    "df['has_wiki'] = le.fit_transform(df.has_wiki.values)\n",
    "df['admin'] = le.fit_transform(df.admin.values)\n",
    "df['push'] = le.fit_transform(df.push.values)\n",
    "df['pull'] = le.fit_transform(df.pull.values)"
   ]
  },
  {
   "cell_type": "code",
   "execution_count": 38,
   "metadata": {},
   "outputs": [],
   "source": [
    "# encoding the language categorical feature\n",
    "#df = pd.get_dummies(df, columns = [\"language\", \"label\", \"type\"])\n",
    "df = pd.get_dummies(df, columns = [\"language\", \"type\"])"
   ]
  },
  {
   "cell_type": "code",
   "execution_count": 39,
   "metadata": {},
   "outputs": [
    {
     "data": {
      "text/plain": [
       "(601077, 51)"
      ]
     },
     "execution_count": 39,
     "metadata": {},
     "output_type": "execute_result"
    }
   ],
   "source": [
    "df.shape"
   ]
  },
  {
   "cell_type": "markdown",
   "metadata": {},
   "source": [
    "### Total Files"
   ]
  },
  {
   "cell_type": "code",
   "execution_count": 40,
   "metadata": {},
   "outputs": [],
   "source": [
    "# create a new column called total_files that sums up the filenames column\n",
    "df['total_files'] = df.apply(lambda row: row.filenames.count(',') + 1, axis=1)"
   ]
  },
  {
   "cell_type": "markdown",
   "metadata": {},
   "source": [
    "### Y Creation"
   ]
  },
  {
   "cell_type": "code",
   "execution_count": 41,
   "metadata": {},
   "outputs": [],
   "source": [
    "# use that paper to classify the commits as being defective of not\n",
    "df['results'] = np.where(df['message'].str.lower().str.contains(\"bug|fix|error|wrong|fail|problem|patch\"), \n",
    "                         1, \n",
    "                         0)"
   ]
  },
  {
   "cell_type": "markdown",
   "metadata": {},
   "source": [
    "#### Delete null date column and date that is equal to 1"
   ]
  },
  {
   "cell_type": "code",
   "execution_count": 42,
   "metadata": {},
   "outputs": [],
   "source": [
    "df = df[pd.notnull(df['date'])]\n",
    "df = df.drop(df[(df.date == '1')].index)"
   ]
  },
  {
   "cell_type": "markdown",
   "metadata": {},
   "source": [
    "### Order by the name and date"
   ]
  },
  {
   "cell_type": "code",
   "execution_count": 43,
   "metadata": {},
   "outputs": [],
   "source": [
    "df = df.sort_values('name')\n",
    "df = df.sort_values('date')"
   ]
  },
  {
   "cell_type": "markdown",
   "metadata": {},
   "source": [
    "#### Reset the Index"
   ]
  },
  {
   "cell_type": "code",
   "execution_count": 44,
   "metadata": {},
   "outputs": [],
   "source": [
    "df = df.reset_index(drop=True)"
   ]
  },
  {
   "cell_type": "markdown",
   "metadata": {},
   "source": [
    "### Find the Weekend"
   ]
  },
  {
   "cell_type": "code",
   "execution_count": 45,
   "metadata": {},
   "outputs": [],
   "source": [
    "import datetime\n",
    "import re\n",
    "\n",
    "def transformStringDate(strDate):\n",
    "    match = re.search(r'\\d{4}-\\d{2}-\\d{2}', strDate)\n",
    "    date = datetime.datetime.strptime(match.group(), '%Y-%m-%d').date()\n",
    "    return date.strftime('%A')"
   ]
  },
  {
   "cell_type": "code",
   "execution_count": 46,
   "metadata": {},
   "outputs": [],
   "source": [
    "df['date_only'] = df['date'].apply(transformStringDate)"
   ]
  },
  {
   "cell_type": "code",
   "execution_count": 47,
   "metadata": {},
   "outputs": [],
   "source": [
    "def weekendcheck(s):\n",
    "    if s == 'Saturday' or s == 'Sunday': \n",
    "        return 1\n",
    "    else:\n",
    "        return 0\n",
    "\n",
    "df['is_weekend'] = df['date_only'].apply(weekendcheck)"
   ]
  },
  {
   "cell_type": "markdown",
   "metadata": {},
   "source": [
    "### Find the night"
   ]
  },
  {
   "cell_type": "code",
   "execution_count": 48,
   "metadata": {},
   "outputs": [],
   "source": [
    "def isnight(datetimeobject):\n",
    "    match = re.search('\\d{2}:\\d{2}:\\d{2}', datetimeobject).group(0)\n",
    "    first_two_letters = match[:2]\n",
    "    if int(first_two_letters) > 20 or int(first_two_letters) < 6:\n",
    "        return(1)\n",
    "    else:\n",
    "        return(0)"
   ]
  },
  {
   "cell_type": "code",
   "execution_count": 49,
   "metadata": {},
   "outputs": [],
   "source": [
    "df['is_night'] = df['date'].apply(isnight)"
   ]
  },
  {
   "cell_type": "markdown",
   "metadata": {},
   "source": [
    "### Extract the Owner"
   ]
  },
  {
   "cell_type": "code",
   "execution_count": 50,
   "metadata": {},
   "outputs": [],
   "source": [
    "def checkOwner(fullname):\n",
    "    data = fullname.split(\"/\")\n",
    "    \n",
    "    if(data[0] == data[1]):\n",
    "        return(0)\n",
    "    else:\n",
    "        return(1)"
   ]
  },
  {
   "cell_type": "code",
   "execution_count": 51,
   "metadata": {},
   "outputs": [],
   "source": [
    "df['outside_contribution'] = df['fullname'].apply(checkOwner)\n",
    "#df['outside_contribution'] = df.apply(lambda x: checkOwner(x.fullname, x.owner), axis=1)"
   ]
  },
  {
   "cell_type": "markdown",
   "metadata": {},
   "source": [
    "### Check for Tests"
   ]
  },
  {
   "cell_type": "code",
   "execution_count": 52,
   "metadata": {},
   "outputs": [],
   "source": [
    "def checkTests(filesCommitted): \n",
    "    #for names in filesCommitted:\n",
    "    if (filesCommitted.find('test') != -1 or filesCommitted.find('Test') != -1): \n",
    "        return 1 \n",
    "\n",
    "    return 0"
   ]
  },
  {
   "cell_type": "code",
   "execution_count": 53,
   "metadata": {},
   "outputs": [],
   "source": [
    "df['tests_included'] = df['filenames'].apply(checkTests)"
   ]
  },
  {
   "cell_type": "code",
   "execution_count": 54,
   "metadata": {},
   "outputs": [
    {
     "data": {
      "text/plain": [
       "0    454950\n",
       "1    146127\n",
       "Name: tests_included, dtype: int64"
      ]
     },
     "execution_count": 54,
     "metadata": {},
     "output_type": "execute_result"
    }
   ],
   "source": [
    "df.tests_included.value_counts()"
   ]
  },
  {
   "cell_type": "markdown",
   "metadata": {},
   "source": [
    "### Check the Changes"
   ]
  },
  {
   "cell_type": "code",
   "execution_count": 55,
   "metadata": {},
   "outputs": [],
   "source": [
    "from collections import Counter\n",
    "\n",
    "def checkChanges(fileStatus): \n",
    "    list_files = fileStatus.split(\",\")\n",
    "    occurence = Counter(list_files).most_common(1)\n",
    "    tupleOccurences = occurence[0]\n",
    "    if (tupleOccurences[0].find('modified') != -1): \n",
    "        return 'modified'\n",
    "    elif (tupleOccurences[0].find('added') != -1): \n",
    "        return 'added'\n",
    "    elif (tupleOccurences[0].find('removed') != -1): \n",
    "        return 'removed'\n",
    "    elif (tupleOccurences[0].find('renamed') != -1): \n",
    "        return 'renamed'\n",
    "    else:\n",
    "        return 'unknown'"
   ]
  },
  {
   "cell_type": "code",
   "execution_count": 56,
   "metadata": {},
   "outputs": [],
   "source": [
    "df['most_changes'] = df['status'].apply(checkChanges)"
   ]
  },
  {
   "cell_type": "code",
   "execution_count": 57,
   "metadata": {},
   "outputs": [
    {
     "data": {
      "text/plain": [
       "array(['added', 'modified', 'removed', 'renamed', 'unknown'], dtype=object)"
      ]
     },
     "execution_count": 57,
     "metadata": {},
     "output_type": "execute_result"
    }
   ],
   "source": [
    "df.most_changes.unique()"
   ]
  },
  {
   "cell_type": "code",
   "execution_count": 58,
   "metadata": {},
   "outputs": [],
   "source": [
    "# encoding the language categorical feature\n",
    "df = pd.get_dummies(df, columns = [\"most_changes\"])"
   ]
  },
  {
   "cell_type": "code",
   "execution_count": 59,
   "metadata": {},
   "outputs": [
    {
     "data": {
      "text/html": [
       "<div>\n",
       "<style scoped>\n",
       "    .dataframe tbody tr th:only-of-type {\n",
       "        vertical-align: middle;\n",
       "    }\n",
       "\n",
       "    .dataframe tbody tr th {\n",
       "        vertical-align: top;\n",
       "    }\n",
       "\n",
       "    .dataframe thead th {\n",
       "        text-align: right;\n",
       "    }\n",
       "</style>\n",
       "<table border=\"1\" class=\"dataframe\">\n",
       "  <thead>\n",
       "    <tr style=\"text-align: right;\">\n",
       "      <th></th>\n",
       "      <th>sha</th>\n",
       "      <th>message</th>\n",
       "      <th>comment_count</th>\n",
       "      <th>date</th>\n",
       "      <th>total_deletions</th>\n",
       "      <th>total_additions</th>\n",
       "      <th>total</th>\n",
       "      <th>comments</th>\n",
       "      <th>additions</th>\n",
       "      <th>deletions</th>\n",
       "      <th>changes</th>\n",
       "      <th>status</th>\n",
       "      <th>filenames</th>\n",
       "      <th>name</th>\n",
       "      <th>fullname</th>\n",
       "      <th>private</th>\n",
       "      <th>fork</th>\n",
       "      <th>size</th>\n",
       "      <th>watchers_count</th>\n",
       "      <th>has_issues</th>\n",
       "      <th>has_downloads</th>\n",
       "      <th>has_wiki</th>\n",
       "      <th>forks_count</th>\n",
       "      <th>open_issues_count</th>\n",
       "      <th>forks</th>\n",
       "      <th>open_issues</th>\n",
       "      <th>watchers</th>\n",
       "      <th>network_count</th>\n",
       "      <th>admin</th>\n",
       "      <th>push</th>\n",
       "      <th>pull</th>\n",
       "      <th>label</th>\n",
       "      <th>owner</th>\n",
       "      <th>language_C</th>\n",
       "      <th>language_C#</th>\n",
       "      <th>language_C++</th>\n",
       "      <th>language_CSS</th>\n",
       "      <th>language_CoffeeScript</th>\n",
       "      <th>language_Go</th>\n",
       "      <th>language_Java</th>\n",
       "      <th>language_JavaScript</th>\n",
       "      <th>language_PHP</th>\n",
       "      <th>language_Perl</th>\n",
       "      <th>language_Python</th>\n",
       "      <th>language_R</th>\n",
       "      <th>language_Ruby</th>\n",
       "      <th>language_Scala</th>\n",
       "      <th>language_Shell</th>\n",
       "      <th>language_TypeScript</th>\n",
       "      <th>type_Organization</th>\n",
       "      <th>type_User</th>\n",
       "      <th>total_files</th>\n",
       "      <th>results</th>\n",
       "      <th>date_only</th>\n",
       "      <th>is_weekend</th>\n",
       "      <th>is_night</th>\n",
       "      <th>outside_contribution</th>\n",
       "      <th>tests_included</th>\n",
       "      <th>most_changes_added</th>\n",
       "      <th>most_changes_modified</th>\n",
       "      <th>most_changes_removed</th>\n",
       "      <th>most_changes_renamed</th>\n",
       "      <th>most_changes_unknown</th>\n",
       "    </tr>\n",
       "  </thead>\n",
       "  <tbody>\n",
       "    <tr>\n",
       "      <th>0</th>\n",
       "      <td>e566ca34a3fd246a4535c458ae47ff7ea62e2de7</td>\n",
       "      <td>New repository initialized by cvs2svn.</td>\n",
       "      <td>0</td>\n",
       "      <td>2003-02-13T13:38:33Z</td>\n",
       "      <td>0</td>\n",
       "      <td>173</td>\n",
       "      <td>173</td>\n",
       "      <td>[]</td>\n",
       "      <td>[1, 8, 8, 155, 1]</td>\n",
       "      <td>[0, 0, 0, 0, 0]</td>\n",
       "      <td>[1, 8, 8, 155, 1]</td>\n",
       "      <td>[u'added', u'added', u'added', u'added', u'add...</td>\n",
       "      <td>[u'.gitignore', u'pull-binary-libs.sh', u'push...</td>\n",
       "      <td>scala</td>\n",
       "      <td>scala/scala</td>\n",
       "      <td>0</td>\n",
       "      <td>0</td>\n",
       "      <td>100982</td>\n",
       "      <td>1610</td>\n",
       "      <td>1</td>\n",
       "      <td>1</td>\n",
       "      <td>1</td>\n",
       "      <td>506</td>\n",
       "      <td>15</td>\n",
       "      <td>506</td>\n",
       "      <td>15</td>\n",
       "      <td>1610</td>\n",
       "      <td>506</td>\n",
       "      <td>0</td>\n",
       "      <td>0</td>\n",
       "      <td>0</td>\n",
       "      <td>reviewed</td>\n",
       "      <td>scala</td>\n",
       "      <td>0</td>\n",
       "      <td>0</td>\n",
       "      <td>0</td>\n",
       "      <td>0</td>\n",
       "      <td>0</td>\n",
       "      <td>0</td>\n",
       "      <td>0</td>\n",
       "      <td>0</td>\n",
       "      <td>0</td>\n",
       "      <td>0</td>\n",
       "      <td>0</td>\n",
       "      <td>0</td>\n",
       "      <td>0</td>\n",
       "      <td>1</td>\n",
       "      <td>0</td>\n",
       "      <td>0</td>\n",
       "      <td>1</td>\n",
       "      <td>0</td>\n",
       "      <td>5</td>\n",
       "      <td>0</td>\n",
       "      <td>Thursday</td>\n",
       "      <td>0</td>\n",
       "      <td>0</td>\n",
       "      <td>0</td>\n",
       "      <td>0</td>\n",
       "      <td>1</td>\n",
       "      <td>0</td>\n",
       "      <td>0</td>\n",
       "      <td>0</td>\n",
       "      <td>0</td>\n",
       "    </tr>\n",
       "    <tr>\n",
       "      <th>1</th>\n",
       "      <td>33d6e170c97ca7b2f991896a0729941a7240b6d6</td>\n",
       "      <td>- Added .cvsignore</td>\n",
       "      <td>0</td>\n",
       "      <td>2003-02-13T13:38:33Z</td>\n",
       "      <td>0</td>\n",
       "      <td>4</td>\n",
       "      <td>4</td>\n",
       "      <td>[]</td>\n",
       "      <td>[4]</td>\n",
       "      <td>[0]</td>\n",
       "      <td>[4]</td>\n",
       "      <td>[u'added']</td>\n",
       "      <td>[u'.cvsignore']</td>\n",
       "      <td>scala</td>\n",
       "      <td>scala/scala</td>\n",
       "      <td>0</td>\n",
       "      <td>0</td>\n",
       "      <td>100982</td>\n",
       "      <td>1610</td>\n",
       "      <td>1</td>\n",
       "      <td>1</td>\n",
       "      <td>1</td>\n",
       "      <td>506</td>\n",
       "      <td>15</td>\n",
       "      <td>506</td>\n",
       "      <td>15</td>\n",
       "      <td>1610</td>\n",
       "      <td>506</td>\n",
       "      <td>0</td>\n",
       "      <td>0</td>\n",
       "      <td>0</td>\n",
       "      <td>reviewed</td>\n",
       "      <td>scala</td>\n",
       "      <td>0</td>\n",
       "      <td>0</td>\n",
       "      <td>0</td>\n",
       "      <td>0</td>\n",
       "      <td>0</td>\n",
       "      <td>0</td>\n",
       "      <td>0</td>\n",
       "      <td>0</td>\n",
       "      <td>0</td>\n",
       "      <td>0</td>\n",
       "      <td>0</td>\n",
       "      <td>0</td>\n",
       "      <td>0</td>\n",
       "      <td>1</td>\n",
       "      <td>0</td>\n",
       "      <td>0</td>\n",
       "      <td>1</td>\n",
       "      <td>0</td>\n",
       "      <td>1</td>\n",
       "      <td>0</td>\n",
       "      <td>Thursday</td>\n",
       "      <td>0</td>\n",
       "      <td>0</td>\n",
       "      <td>0</td>\n",
       "      <td>0</td>\n",
       "      <td>1</td>\n",
       "      <td>0</td>\n",
       "      <td>0</td>\n",
       "      <td>0</td>\n",
       "      <td>0</td>\n",
       "    </tr>\n",
       "    <tr>\n",
       "      <th>2</th>\n",
       "      <td>4177daab2f54bdb20c71f623296a8bb32616fd12</td>\n",
       "      <td>Initial version.</td>\n",
       "      <td>0</td>\n",
       "      <td>2003-02-13T14:41:36Z</td>\n",
       "      <td>0</td>\n",
       "      <td>23138</td>\n",
       "      <td>23138</td>\n",
       "      <td>[]</td>\n",
       "      <td>[87, 221, 354, 38, 45, 169, 96, 123, 30, 430, ...</td>\n",
       "      <td>[0, 0, 0, 0, 0, 0, 0, 0, 0, 0, 0, 0, 0, 0, 0, ...</td>\n",
       "      <td>[87, 221, 354, 38, 45, 169, 96, 123, 30, 430, ...</td>\n",
       "      <td>[u'added', u'added', u'added', u'added', u'add...</td>\n",
       "      <td>[u'sources/scalac/ApplicationError.java', u'so...</td>\n",
       "      <td>scala</td>\n",
       "      <td>scala/scala</td>\n",
       "      <td>0</td>\n",
       "      <td>0</td>\n",
       "      <td>100982</td>\n",
       "      <td>1610</td>\n",
       "      <td>1</td>\n",
       "      <td>1</td>\n",
       "      <td>1</td>\n",
       "      <td>506</td>\n",
       "      <td>15</td>\n",
       "      <td>506</td>\n",
       "      <td>15</td>\n",
       "      <td>1610</td>\n",
       "      <td>506</td>\n",
       "      <td>0</td>\n",
       "      <td>0</td>\n",
       "      <td>0</td>\n",
       "      <td>reviewed</td>\n",
       "      <td>scala</td>\n",
       "      <td>0</td>\n",
       "      <td>0</td>\n",
       "      <td>0</td>\n",
       "      <td>0</td>\n",
       "      <td>0</td>\n",
       "      <td>0</td>\n",
       "      <td>0</td>\n",
       "      <td>0</td>\n",
       "      <td>0</td>\n",
       "      <td>0</td>\n",
       "      <td>0</td>\n",
       "      <td>0</td>\n",
       "      <td>0</td>\n",
       "      <td>1</td>\n",
       "      <td>0</td>\n",
       "      <td>0</td>\n",
       "      <td>1</td>\n",
       "      <td>0</td>\n",
       "      <td>81</td>\n",
       "      <td>0</td>\n",
       "      <td>Thursday</td>\n",
       "      <td>0</td>\n",
       "      <td>0</td>\n",
       "      <td>0</td>\n",
       "      <td>0</td>\n",
       "      <td>1</td>\n",
       "      <td>0</td>\n",
       "      <td>0</td>\n",
       "      <td>0</td>\n",
       "      <td>0</td>\n",
       "    </tr>\n",
       "    <tr>\n",
       "      <th>3</th>\n",
       "      <td>073294fbbaf752ed4f9005eb9421b7bd4f475173</td>\n",
       "      <td>- Added list of compiler source files\\n\\n- Add...</td>\n",
       "      <td>0</td>\n",
       "      <td>2003-02-14T10:18:21Z</td>\n",
       "      <td>0</td>\n",
       "      <td>253</td>\n",
       "      <td>253</td>\n",
       "      <td>[]</td>\n",
       "      <td>[2, 157, 94]</td>\n",
       "      <td>[0, 0, 0]</td>\n",
       "      <td>[2, 157, 94]</td>\n",
       "      <td>[u'modified', u'added', u'added']</td>\n",
       "      <td>[u'.cvsignore', u'Makefile', u'config/list/com...</td>\n",
       "      <td>scala</td>\n",
       "      <td>scala/scala</td>\n",
       "      <td>0</td>\n",
       "      <td>0</td>\n",
       "      <td>100982</td>\n",
       "      <td>1610</td>\n",
       "      <td>1</td>\n",
       "      <td>1</td>\n",
       "      <td>1</td>\n",
       "      <td>506</td>\n",
       "      <td>15</td>\n",
       "      <td>506</td>\n",
       "      <td>15</td>\n",
       "      <td>1610</td>\n",
       "      <td>506</td>\n",
       "      <td>0</td>\n",
       "      <td>0</td>\n",
       "      <td>0</td>\n",
       "      <td>reviewed</td>\n",
       "      <td>scala</td>\n",
       "      <td>0</td>\n",
       "      <td>0</td>\n",
       "      <td>0</td>\n",
       "      <td>0</td>\n",
       "      <td>0</td>\n",
       "      <td>0</td>\n",
       "      <td>0</td>\n",
       "      <td>0</td>\n",
       "      <td>0</td>\n",
       "      <td>0</td>\n",
       "      <td>0</td>\n",
       "      <td>0</td>\n",
       "      <td>0</td>\n",
       "      <td>1</td>\n",
       "      <td>0</td>\n",
       "      <td>0</td>\n",
       "      <td>1</td>\n",
       "      <td>0</td>\n",
       "      <td>3</td>\n",
       "      <td>0</td>\n",
       "      <td>Friday</td>\n",
       "      <td>0</td>\n",
       "      <td>0</td>\n",
       "      <td>0</td>\n",
       "      <td>0</td>\n",
       "      <td>0</td>\n",
       "      <td>1</td>\n",
       "      <td>0</td>\n",
       "      <td>0</td>\n",
       "      <td>0</td>\n",
       "    </tr>\n",
       "    <tr>\n",
       "      <th>4</th>\n",
       "      <td>23d2bfbeb21f63d82ed46d5b1b0b85b1ed2f4355</td>\n",
       "      <td>Initial version.</td>\n",
       "      <td>0</td>\n",
       "      <td>2003-02-14T13:36:31Z</td>\n",
       "      <td>0</td>\n",
       "      <td>859</td>\n",
       "      <td>859</td>\n",
       "      <td>[]</td>\n",
       "      <td>[12, 3, 13, 9, 35, 345, 15, 13, 6, 21, 48, 6, ...</td>\n",
       "      <td>[0, 0, 0, 0, 0, 0, 0, 0, 0, 0, 0, 0, 0, 0, 0, ...</td>\n",
       "      <td>[12, 3, 13, 9, 35, 345, 15, 13, 6, 21, 48, 6, ...</td>\n",
       "      <td>[u'added', u'added', u'added', u'added', u'add...</td>\n",
       "      <td>[u'sources/scala/$colon$colon.scala', u'source...</td>\n",
       "      <td>scala</td>\n",
       "      <td>scala/scala</td>\n",
       "      <td>0</td>\n",
       "      <td>0</td>\n",
       "      <td>100982</td>\n",
       "      <td>1610</td>\n",
       "      <td>1</td>\n",
       "      <td>1</td>\n",
       "      <td>1</td>\n",
       "      <td>506</td>\n",
       "      <td>15</td>\n",
       "      <td>506</td>\n",
       "      <td>15</td>\n",
       "      <td>1610</td>\n",
       "      <td>506</td>\n",
       "      <td>0</td>\n",
       "      <td>0</td>\n",
       "      <td>0</td>\n",
       "      <td>reviewed</td>\n",
       "      <td>scala</td>\n",
       "      <td>0</td>\n",
       "      <td>0</td>\n",
       "      <td>0</td>\n",
       "      <td>0</td>\n",
       "      <td>0</td>\n",
       "      <td>0</td>\n",
       "      <td>0</td>\n",
       "      <td>0</td>\n",
       "      <td>0</td>\n",
       "      <td>0</td>\n",
       "      <td>0</td>\n",
       "      <td>0</td>\n",
       "      <td>0</td>\n",
       "      <td>1</td>\n",
       "      <td>0</td>\n",
       "      <td>0</td>\n",
       "      <td>1</td>\n",
       "      <td>0</td>\n",
       "      <td>22</td>\n",
       "      <td>0</td>\n",
       "      <td>Friday</td>\n",
       "      <td>0</td>\n",
       "      <td>0</td>\n",
       "      <td>0</td>\n",
       "      <td>0</td>\n",
       "      <td>1</td>\n",
       "      <td>0</td>\n",
       "      <td>0</td>\n",
       "      <td>0</td>\n",
       "      <td>0</td>\n",
       "    </tr>\n",
       "  </tbody>\n",
       "</table>\n",
       "</div>"
      ],
      "text/plain": [
       "                                        sha                                            message  comment_count                  date  total_deletions  total_additions  total comments                                          additions                                          deletions                                            changes                                             status                                          filenames   name     fullname  private  fork    size  watchers_count  has_issues  has_downloads  has_wiki  forks_count  open_issues_count  forks  open_issues  watchers  network_count  admin  push  pull     label  owner  language_C  language_C#  language_C++  language_CSS  language_CoffeeScript  language_Go  language_Java  language_JavaScript  language_PHP  language_Perl  language_Python  language_R  language_Ruby  language_Scala  language_Shell  language_TypeScript  type_Organization  type_User  total_files  results date_only  is_weekend  is_night  \\\n",
       "0  e566ca34a3fd246a4535c458ae47ff7ea62e2de7             New repository initialized by cvs2svn.              0  2003-02-13T13:38:33Z                0              173    173       []                                  [1, 8, 8, 155, 1]                                    [0, 0, 0, 0, 0]                                  [1, 8, 8, 155, 1]  [u'added', u'added', u'added', u'added', u'add...  [u'.gitignore', u'pull-binary-libs.sh', u'push...  scala  scala/scala        0     0  100982            1610           1              1         1          506                 15    506           15      1610            506      0     0     0  reviewed  scala           0            0             0             0                      0            0              0                    0             0              0                0           0              0               1               0                    0                  1          0            5        0  Thursday           0         0   \n",
       "1  33d6e170c97ca7b2f991896a0729941a7240b6d6                                 - Added .cvsignore              0  2003-02-13T13:38:33Z                0                4      4       []                                                [4]                                                [0]                                                [4]                                         [u'added']                                    [u'.cvsignore']  scala  scala/scala        0     0  100982            1610           1              1         1          506                 15    506           15      1610            506      0     0     0  reviewed  scala           0            0             0             0                      0            0              0                    0             0              0                0           0              0               1               0                    0                  1          0            1        0  Thursday           0         0   \n",
       "2  4177daab2f54bdb20c71f623296a8bb32616fd12                                   Initial version.              0  2003-02-13T14:41:36Z                0            23138  23138       []  [87, 221, 354, 38, 45, 169, 96, 123, 30, 430, ...  [0, 0, 0, 0, 0, 0, 0, 0, 0, 0, 0, 0, 0, 0, 0, ...  [87, 221, 354, 38, 45, 169, 96, 123, 30, 430, ...  [u'added', u'added', u'added', u'added', u'add...  [u'sources/scalac/ApplicationError.java', u'so...  scala  scala/scala        0     0  100982            1610           1              1         1          506                 15    506           15      1610            506      0     0     0  reviewed  scala           0            0             0             0                      0            0              0                    0             0              0                0           0              0               1               0                    0                  1          0           81        0  Thursday           0         0   \n",
       "3  073294fbbaf752ed4f9005eb9421b7bd4f475173  - Added list of compiler source files\\n\\n- Add...              0  2003-02-14T10:18:21Z                0              253    253       []                                       [2, 157, 94]                                          [0, 0, 0]                                       [2, 157, 94]                  [u'modified', u'added', u'added']  [u'.cvsignore', u'Makefile', u'config/list/com...  scala  scala/scala        0     0  100982            1610           1              1         1          506                 15    506           15      1610            506      0     0     0  reviewed  scala           0            0             0             0                      0            0              0                    0             0              0                0           0              0               1               0                    0                  1          0            3        0    Friday           0         0   \n",
       "4  23d2bfbeb21f63d82ed46d5b1b0b85b1ed2f4355                                   Initial version.              0  2003-02-14T13:36:31Z                0              859    859       []  [12, 3, 13, 9, 35, 345, 15, 13, 6, 21, 48, 6, ...  [0, 0, 0, 0, 0, 0, 0, 0, 0, 0, 0, 0, 0, 0, 0, ...  [12, 3, 13, 9, 35, 345, 15, 13, 6, 21, 48, 6, ...  [u'added', u'added', u'added', u'added', u'add...  [u'sources/scala/$colon$colon.scala', u'source...  scala  scala/scala        0     0  100982            1610           1              1         1          506                 15    506           15      1610            506      0     0     0  reviewed  scala           0            0             0             0                      0            0              0                    0             0              0                0           0              0               1               0                    0                  1          0           22        0    Friday           0         0   \n",
       "\n",
       "   outside_contribution  tests_included  most_changes_added  most_changes_modified  most_changes_removed  most_changes_renamed  most_changes_unknown  \n",
       "0                     0               0                   1                      0                     0                     0                     0  \n",
       "1                     0               0                   1                      0                     0                     0                     0  \n",
       "2                     0               0                   1                      0                     0                     0                     0  \n",
       "3                     0               0                   0                      1                     0                     0                     0  \n",
       "4                     0               0                   1                      0                     0                     0                     0  "
      ]
     },
     "execution_count": 59,
     "metadata": {},
     "output_type": "execute_result"
    }
   ],
   "source": [
    "df.head(5)"
   ]
  },
  {
   "cell_type": "code",
   "execution_count": 32,
   "metadata": {},
   "outputs": [
    {
     "data": {
      "text/plain": [
       "Index(['sha', 'message', 'comment_count', 'date', 'total_deletions', 'total_additions', 'total', 'comments', 'additions', 'deletions', 'changes', 'status', 'filenames', 'name', 'fullname', 'private', 'fork', 'size', 'watchers_count', 'has_issues', 'has_downloads', 'has_wiki', 'forks_count', 'open_issues_count', 'forks', 'open_issues', 'watchers', 'network_count', 'admin', 'push', 'pull', 'label', 'owner', 'language_C', 'language_C#', 'language_C++', 'language_CSS', 'language_CoffeeScript', 'language_Go', 'language_Java', 'language_JavaScript', 'language_PHP', 'language_Perl', 'language_Python', 'language_R', 'language_Ruby', 'language_Scala', 'language_Shell', 'language_TypeScript', 'type_Organization', 'type_User', 'total_files', 'results', 'date_only', 'is_weekend', 'is_night', 'outside_contribution', 'tests_included', 'most_changes_added', 'most_changes_modified', 'most_changes_removed', 'most_changes_renamed', 'most_changes_unknown'], dtype='object')"
      ]
     },
     "execution_count": 32,
     "metadata": {},
     "output_type": "execute_result"
    }
   ],
   "source": [
    "df.columns"
   ]
  },
  {
   "cell_type": "code",
   "execution_count": 30,
   "metadata": {},
   "outputs": [],
   "source": [
    "# save the csv\n",
    "df.to_csv('../data/total_processed.csv')"
   ]
  },
  {
   "cell_type": "code",
   "execution_count": null,
   "metadata": {},
   "outputs": [],
   "source": []
  }
 ],
 "metadata": {
  "kernelspec": {
   "display_name": "Python 3",
   "language": "python",
   "name": "python3"
  },
  "language_info": {
   "codemirror_mode": {
    "name": "ipython",
    "version": 3
   },
   "file_extension": ".py",
   "mimetype": "text/x-python",
   "name": "python",
   "nbconvert_exporter": "python",
   "pygments_lexer": "ipython3",
   "version": "3.7.3"
  }
 },
 "nbformat": 4,
 "nbformat_minor": 2
}
