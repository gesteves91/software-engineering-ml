{
 "cells": [
  {
   "cell_type": "markdown",
   "metadata": {},
   "source": [
    "# Feature Engineering Github Data"
   ]
  },
  {
   "cell_type": "code",
   "execution_count": 1,
   "metadata": {},
   "outputs": [],
   "source": [
    "# import libraries\n",
    "import pandas as pd\n",
    "import numpy as np"
   ]
  },
  {
   "cell_type": "code",
   "execution_count": 2,
   "metadata": {},
   "outputs": [],
   "source": [
    "pd.set_option('display.max_rows', 500)\n",
    "pd.set_option('display.max_columns', 500)\n",
    "pd.set_option('display.width', 1000)"
   ]
  },
  {
   "cell_type": "code",
   "execution_count": 3,
   "metadata": {},
   "outputs": [],
   "source": [
    "# read the data\n",
    "df = pd.read_csv(\"../data/total.csv\")\n",
    "#df = pd.read_csv(\"../data/raw_data.csv\")"
   ]
  },
  {
   "cell_type": "code",
   "execution_count": 4,
   "metadata": {},
   "outputs": [
    {
     "data": {
      "text/html": [
       "<div>\n",
       "<style scoped>\n",
       "    .dataframe tbody tr th:only-of-type {\n",
       "        vertical-align: middle;\n",
       "    }\n",
       "\n",
       "    .dataframe tbody tr th {\n",
       "        vertical-align: top;\n",
       "    }\n",
       "\n",
       "    .dataframe thead th {\n",
       "        text-align: right;\n",
       "    }\n",
       "</style>\n",
       "<table border=\"1\" class=\"dataframe\">\n",
       "  <thead>\n",
       "    <tr style=\"text-align: right;\">\n",
       "      <th></th>\n",
       "      <th>sha</th>\n",
       "      <th>message</th>\n",
       "      <th>comment_count</th>\n",
       "      <th>date</th>\n",
       "      <th>total_deletions</th>\n",
       "      <th>total_additions</th>\n",
       "      <th>total</th>\n",
       "      <th>comments</th>\n",
       "      <th>additions</th>\n",
       "      <th>deletions</th>\n",
       "      <th>changes</th>\n",
       "      <th>status</th>\n",
       "      <th>filenames</th>\n",
       "      <th>name</th>\n",
       "      <th>fullname</th>\n",
       "      <th>private</th>\n",
       "      <th>fork</th>\n",
       "      <th>size</th>\n",
       "      <th>watchers_count</th>\n",
       "      <th>language</th>\n",
       "      <th>has_issues</th>\n",
       "      <th>has_downloads</th>\n",
       "      <th>has_wiki</th>\n",
       "      <th>forks_count</th>\n",
       "      <th>open_issues_count</th>\n",
       "      <th>forks</th>\n",
       "      <th>open_issues</th>\n",
       "      <th>watchers</th>\n",
       "      <th>network_count</th>\n",
       "      <th>type</th>\n",
       "      <th>admin</th>\n",
       "      <th>push</th>\n",
       "      <th>pull</th>\n",
       "      <th>label</th>\n",
       "      <th>owner</th>\n",
       "    </tr>\n",
       "  </thead>\n",
       "  <tbody>\n",
       "    <tr>\n",
       "      <th>0</th>\n",
       "      <td>cba2407f4a86c0a040fe0473615f9987ab108b9c</td>\n",
       "      <td>Use github's new relative path format.</td>\n",
       "      <td>0</td>\n",
       "      <td>2013-01-31T04:46:46Z</td>\n",
       "      <td>3</td>\n",
       "      <td>2</td>\n",
       "      <td>5</td>\n",
       "      <td>[]</td>\n",
       "      <td>[2]</td>\n",
       "      <td>[3]</td>\n",
       "      <td>[5]</td>\n",
       "      <td>[u'modified']</td>\n",
       "      <td>[u'README.md']</td>\n",
       "      <td>stat-cookbook</td>\n",
       "      <td>mavam/stat-cookbook</td>\n",
       "      <td>False</td>\n",
       "      <td>False</td>\n",
       "      <td>188</td>\n",
       "      <td>298</td>\n",
       "      <td>R</td>\n",
       "      <td>True</td>\n",
       "      <td>True</td>\n",
       "      <td>True</td>\n",
       "      <td>41</td>\n",
       "      <td>0</td>\n",
       "      <td>41</td>\n",
       "      <td>0</td>\n",
       "      <td>298</td>\n",
       "      <td>41</td>\n",
       "      <td>User</td>\n",
       "      <td>False</td>\n",
       "      <td>False</td>\n",
       "      <td>True</td>\n",
       "      <td>bug</td>\n",
       "      <td>mavam</td>\n",
       "    </tr>\n",
       "    <tr>\n",
       "      <th>1</th>\n",
       "      <td>758a5bae6d25eb3f67a28537dd5c9c3db2648368</td>\n",
       "      <td>Fix conditional variance of LS estimate.\\n\\nIn...</td>\n",
       "      <td>0</td>\n",
       "      <td>2013-01-31T04:32:15Z</td>\n",
       "      <td>2</td>\n",
       "      <td>3</td>\n",
       "      <td>5</td>\n",
       "      <td>[]</td>\n",
       "      <td>[3]</td>\n",
       "      <td>[2]</td>\n",
       "      <td>[5]</td>\n",
       "      <td>[u'modified']</td>\n",
       "      <td>[u'cookbook.tex']</td>\n",
       "      <td>stat-cookbook</td>\n",
       "      <td>mavam/stat-cookbook</td>\n",
       "      <td>False</td>\n",
       "      <td>False</td>\n",
       "      <td>188</td>\n",
       "      <td>298</td>\n",
       "      <td>R</td>\n",
       "      <td>True</td>\n",
       "      <td>True</td>\n",
       "      <td>True</td>\n",
       "      <td>41</td>\n",
       "      <td>0</td>\n",
       "      <td>41</td>\n",
       "      <td>0</td>\n",
       "      <td>298</td>\n",
       "      <td>41</td>\n",
       "      <td>User</td>\n",
       "      <td>False</td>\n",
       "      <td>False</td>\n",
       "      <td>True</td>\n",
       "      <td>bug</td>\n",
       "      <td>mavam</td>\n",
       "    </tr>\n",
       "    <tr>\n",
       "      <th>2</th>\n",
       "      <td>7e5a9a426668b14b4fd22b227b54446185667649</td>\n",
       "      <td>Merge pull request #8 from cortex/master\\n\\nSh...</td>\n",
       "      <td>0</td>\n",
       "      <td>2013-02-03T03:03:09Z</td>\n",
       "      <td>0</td>\n",
       "      <td>15</td>\n",
       "      <td>15</td>\n",
       "      <td>[]</td>\n",
       "      <td>[9, 6]</td>\n",
       "      <td>[0, 0]</td>\n",
       "      <td>[9, 6]</td>\n",
       "      <td>[u'modified', u'modified']</td>\n",
       "      <td>[u'R/sql.reader.R', u'man/sql.reader.Rd']</td>\n",
       "      <td>ProjectTemplate</td>\n",
       "      <td>johnmyleswhite/ProjectTemplate</td>\n",
       "      <td>False</td>\n",
       "      <td>False</td>\n",
       "      <td>240</td>\n",
       "      <td>194</td>\n",
       "      <td>R</td>\n",
       "      <td>True</td>\n",
       "      <td>True</td>\n",
       "      <td>True</td>\n",
       "      <td>27</td>\n",
       "      <td>2</td>\n",
       "      <td>27</td>\n",
       "      <td>2</td>\n",
       "      <td>194</td>\n",
       "      <td>27</td>\n",
       "      <td>User</td>\n",
       "      <td>False</td>\n",
       "      <td>False</td>\n",
       "      <td>True</td>\n",
       "      <td>NaN</td>\n",
       "      <td>NaN</td>\n",
       "    </tr>\n",
       "  </tbody>\n",
       "</table>\n",
       "</div>"
      ],
      "text/plain": [
       "                                        sha                                            message  comment_count                  date  total_deletions  total_additions  total comments additions deletions changes                      status                                  filenames             name                        fullname  private   fork  size  watchers_count language  has_issues  has_downloads  has_wiki  forks_count  open_issues_count  forks  open_issues  watchers  network_count  type  admin   push  pull label  owner\n",
       "0  cba2407f4a86c0a040fe0473615f9987ab108b9c             Use github's new relative path format.              0  2013-01-31T04:46:46Z                3                2      5       []       [2]       [3]     [5]               [u'modified']                             [u'README.md']    stat-cookbook             mavam/stat-cookbook    False  False   188             298        R        True           True      True           41                  0     41            0       298             41  User  False  False  True   bug  mavam\n",
       "1  758a5bae6d25eb3f67a28537dd5c9c3db2648368  Fix conditional variance of LS estimate.\\n\\nIn...              0  2013-01-31T04:32:15Z                2                3      5       []       [3]       [2]     [5]               [u'modified']                          [u'cookbook.tex']    stat-cookbook             mavam/stat-cookbook    False  False   188             298        R        True           True      True           41                  0     41            0       298             41  User  False  False  True   bug  mavam\n",
       "2  7e5a9a426668b14b4fd22b227b54446185667649  Merge pull request #8 from cortex/master\\n\\nSh...              0  2013-02-03T03:03:09Z                0               15     15       []    [9, 6]    [0, 0]  [9, 6]  [u'modified', u'modified']  [u'R/sql.reader.R', u'man/sql.reader.Rd']  ProjectTemplate  johnmyleswhite/ProjectTemplate    False  False   240             194        R        True           True      True           27                  2     27            2       194             27  User  False  False  True   NaN    NaN"
      ]
     },
     "execution_count": 4,
     "metadata": {},
     "output_type": "execute_result"
    }
   ],
   "source": [
    "# checking the data shape\n",
    "df.head(3)"
   ]
  },
  {
   "cell_type": "markdown",
   "metadata": {},
   "source": [
    "### One hot-encoding"
   ]
  },
  {
   "cell_type": "code",
   "execution_count": 5,
   "metadata": {},
   "outputs": [],
   "source": [
    "# import preprocessing from sklearn\n",
    "from sklearn import preprocessing\n",
    "le = preprocessing.LabelEncoder()"
   ]
  },
  {
   "cell_type": "code",
   "execution_count": 6,
   "metadata": {},
   "outputs": [
    {
     "data": {
      "text/plain": [
       "array(['R', 'C++', 'JavaScript', 'TypeScript', 'CSS', 'Python', 'C', 'C#',\n",
       "       'Perl', 'Shell', nan, 'Go', 'Java', 'PHP', 'CoffeeScript', 'Ruby',\n",
       "       'Scala'], dtype=object)"
      ]
     },
     "execution_count": 6,
     "metadata": {},
     "output_type": "execute_result"
    }
   ],
   "source": [
    "df.language.unique()"
   ]
  },
  {
   "cell_type": "code",
   "execution_count": 7,
   "metadata": {},
   "outputs": [],
   "source": [
    "# encoding these columns that are 0/1\n",
    "df['private'] = le.fit_transform(df.private.values)\n",
    "df['fork'] = le.fit_transform(df.fork.values)\n",
    "df['has_issues'] = le.fit_transform(df.has_issues.values)\n",
    "df['has_downloads'] = le.fit_transform(df.has_downloads.values)\n",
    "df['has_wiki'] = le.fit_transform(df.has_wiki.values)\n",
    "df['admin'] = le.fit_transform(df.admin.values)\n",
    "df['push'] = le.fit_transform(df.push.values)\n",
    "df['pull'] = le.fit_transform(df.pull.values)"
   ]
  },
  {
   "cell_type": "code",
   "execution_count": 8,
   "metadata": {},
   "outputs": [],
   "source": [
    "# encoding the language categorical feature\n",
    "#df = pd.get_dummies(df, columns = [\"language\", \"label\", \"type\"])\n",
    "df = pd.get_dummies(df, columns = [\"language\", \"type\"])"
   ]
  },
  {
   "cell_type": "code",
   "execution_count": 9,
   "metadata": {},
   "outputs": [
    {
     "data": {
      "text/plain": [
       "(601077, 51)"
      ]
     },
     "execution_count": 9,
     "metadata": {},
     "output_type": "execute_result"
    }
   ],
   "source": [
    "df.shape"
   ]
  },
  {
   "cell_type": "markdown",
   "metadata": {},
   "source": [
    "### Total Files"
   ]
  },
  {
   "cell_type": "code",
   "execution_count": 10,
   "metadata": {},
   "outputs": [],
   "source": [
    "# create a new column called total_files that sums up the filenames column\n",
    "df['total_files'] = df.apply(lambda row: row.filenames.count(',') + 1, axis=1)"
   ]
  },
  {
   "cell_type": "markdown",
   "metadata": {},
   "source": [
    "### Y Creation"
   ]
  },
  {
   "cell_type": "code",
   "execution_count": 11,
   "metadata": {},
   "outputs": [],
   "source": [
    "# use that paper to classify the commits as being defective of not\n",
    "df['results'] = np.where(df['message'].str.lower().str.contains(\"bug|fix|error|wrong|fail|problem|patch\"), \n",
    "                         1, \n",
    "                         0)"
   ]
  },
  {
   "cell_type": "markdown",
   "metadata": {},
   "source": [
    "#### Delete null date column and date that is equal to 1"
   ]
  },
  {
   "cell_type": "code",
   "execution_count": 12,
   "metadata": {},
   "outputs": [],
   "source": [
    "df = df[pd.notnull(df['date'])]\n",
    "df = df.drop(df[(df.date == '1')].index)"
   ]
  },
  {
   "cell_type": "markdown",
   "metadata": {},
   "source": [
    "### Order by the name and date"
   ]
  },
  {
   "cell_type": "code",
   "execution_count": 13,
   "metadata": {},
   "outputs": [],
   "source": [
    "df = df.sort_values('name')\n",
    "df = df.sort_values('date')"
   ]
  },
  {
   "cell_type": "markdown",
   "metadata": {},
   "source": [
    "#### Reset the Index"
   ]
  },
  {
   "cell_type": "code",
   "execution_count": 14,
   "metadata": {},
   "outputs": [],
   "source": [
    "df = df.reset_index(drop=True)"
   ]
  },
  {
   "cell_type": "markdown",
   "metadata": {},
   "source": [
    "### Find the Weekend"
   ]
  },
  {
   "cell_type": "code",
   "execution_count": 15,
   "metadata": {},
   "outputs": [],
   "source": [
    "import datetime\n",
    "import re\n",
    "\n",
    "def transformStringDate(strDate):\n",
    "    match = re.search(r'\\d{4}-\\d{2}-\\d{2}', strDate)\n",
    "    date = datetime.datetime.strptime(match.group(), '%Y-%m-%d').date()\n",
    "    return date.strftime('%A')"
   ]
  },
  {
   "cell_type": "code",
   "execution_count": 16,
   "metadata": {},
   "outputs": [],
   "source": [
    "df['date_only'] = df['date'].apply(transformStringDate)"
   ]
  },
  {
   "cell_type": "code",
   "execution_count": 17,
   "metadata": {},
   "outputs": [],
   "source": [
    "def weekendcheck(s):\n",
    "    if s == 'Saturday' or s == 'Sunday': \n",
    "        return 1\n",
    "    else:\n",
    "        return 0\n",
    "\n",
    "df['is_weekend'] = df['date_only'].apply(weekendcheck)"
   ]
  },
  {
   "cell_type": "markdown",
   "metadata": {},
   "source": [
    "### Find the night"
   ]
  },
  {
   "cell_type": "code",
   "execution_count": 18,
   "metadata": {},
   "outputs": [],
   "source": [
    "def isnight(datetimeobject):\n",
    "    match = re.search('\\d{2}:\\d{2}:\\d{2}', datetimeobject).group(0)\n",
    "    first_two_letters = match[:2]\n",
    "    if int(first_two_letters) > 20 or int(first_two_letters) < 6:\n",
    "        return(1)\n",
    "    else:\n",
    "        return(0)"
   ]
  },
  {
   "cell_type": "code",
   "execution_count": 19,
   "metadata": {},
   "outputs": [],
   "source": [
    "df['is_night'] = df['date'].apply(isnight)"
   ]
  },
  {
   "cell_type": "markdown",
   "metadata": {},
   "source": [
    "### Extract the Owner"
   ]
  },
  {
   "cell_type": "code",
   "execution_count": 20,
   "metadata": {},
   "outputs": [],
   "source": [
    "def checkOwner(fullname):\n",
    "    data = fullname.split(\"/\")\n",
    "    \n",
    "    if(data[0] == data[1]):\n",
    "        return(0)\n",
    "    else:\n",
    "        return(1)"
   ]
  },
  {
   "cell_type": "code",
   "execution_count": 21,
   "metadata": {},
   "outputs": [],
   "source": [
    "df['outside_contribution'] = df['fullname'].apply(checkOwner)\n",
    "#df['outside_contribution'] = df.apply(lambda x: checkOwner(x.fullname, x.owner), axis=1)"
   ]
  },
  {
   "cell_type": "markdown",
   "metadata": {},
   "source": [
    "### Check for Tests"
   ]
  },
  {
   "cell_type": "code",
   "execution_count": 22,
   "metadata": {},
   "outputs": [],
   "source": [
    "def checkTests(filesCommitted): \n",
    "    #for names in filesCommitted:\n",
    "    if (filesCommitted.find('test') != -1 or filesCommitted.find('Test') != -1): \n",
    "        return 1 \n",
    "\n",
    "    return 0"
   ]
  },
  {
   "cell_type": "code",
   "execution_count": 23,
   "metadata": {},
   "outputs": [],
   "source": [
    "df['tests_included'] = df['filenames'].apply(checkTests)"
   ]
  },
  {
   "cell_type": "code",
   "execution_count": 24,
   "metadata": {},
   "outputs": [
    {
     "data": {
      "text/plain": [
       "0    454950\n",
       "1    146127\n",
       "Name: tests_included, dtype: int64"
      ]
     },
     "execution_count": 24,
     "metadata": {},
     "output_type": "execute_result"
    }
   ],
   "source": [
    "df.tests_included.value_counts()"
   ]
  },
  {
   "cell_type": "markdown",
   "metadata": {},
   "source": [
    "### Check the Changes"
   ]
  },
  {
   "cell_type": "code",
   "execution_count": 25,
   "metadata": {},
   "outputs": [],
   "source": [
    "from collections import Counter\n",
    "\n",
    "def checkChanges(fileStatus): \n",
    "    list_files = fileStatus.split(\",\")\n",
    "    occurence = Counter(list_files).most_common(1)\n",
    "    tupleOccurences = occurence[0]\n",
    "    if (tupleOccurences[0].find('modified') != -1): \n",
    "        return 'modified'\n",
    "    elif (tupleOccurences[0].find('added') != -1): \n",
    "        return 'added'\n",
    "    elif (tupleOccurences[0].find('removed') != -1): \n",
    "        return 'removed'\n",
    "    elif (tupleOccurences[0].find('renamed') != -1): \n",
    "        return 'renamed'\n",
    "    else:\n",
    "        return 'unknown'"
   ]
  },
  {
   "cell_type": "code",
   "execution_count": 26,
   "metadata": {},
   "outputs": [],
   "source": [
    "df['most_changes'] = df['status'].apply(checkChanges)"
   ]
  },
  {
   "cell_type": "code",
   "execution_count": 27,
   "metadata": {},
   "outputs": [
    {
     "data": {
      "text/plain": [
       "array(['added', 'modified', 'removed', 'renamed', 'unknown'], dtype=object)"
      ]
     },
     "execution_count": 27,
     "metadata": {},
     "output_type": "execute_result"
    }
   ],
   "source": [
    "df.most_changes.unique()"
   ]
  },
  {
   "cell_type": "code",
   "execution_count": 28,
   "metadata": {},
   "outputs": [],
   "source": [
    "# encoding the language categorical feature\n",
    "df = pd.get_dummies(df, columns = [\"most_changes\"])"
   ]
  },
  {
   "cell_type": "code",
   "execution_count": 29,
   "metadata": {},
   "outputs": [
    {
     "data": {
      "text/html": [
       "<div>\n",
       "<style scoped>\n",
       "    .dataframe tbody tr th:only-of-type {\n",
       "        vertical-align: middle;\n",
       "    }\n",
       "\n",
       "    .dataframe tbody tr th {\n",
       "        vertical-align: top;\n",
       "    }\n",
       "\n",
       "    .dataframe thead th {\n",
       "        text-align: right;\n",
       "    }\n",
       "</style>\n",
       "<table border=\"1\" class=\"dataframe\">\n",
       "  <thead>\n",
       "    <tr style=\"text-align: right;\">\n",
       "      <th></th>\n",
       "      <th>sha</th>\n",
       "      <th>message</th>\n",
       "      <th>comment_count</th>\n",
       "      <th>date</th>\n",
       "      <th>total_deletions</th>\n",
       "      <th>total_additions</th>\n",
       "      <th>total</th>\n",
       "      <th>comments</th>\n",
       "      <th>additions</th>\n",
       "      <th>deletions</th>\n",
       "      <th>changes</th>\n",
       "      <th>status</th>\n",
       "      <th>filenames</th>\n",
       "      <th>name</th>\n",
       "      <th>fullname</th>\n",
       "      <th>private</th>\n",
       "      <th>fork</th>\n",
       "      <th>size</th>\n",
       "      <th>watchers_count</th>\n",
       "      <th>has_issues</th>\n",
       "      <th>has_downloads</th>\n",
       "      <th>has_wiki</th>\n",
       "      <th>forks_count</th>\n",
       "      <th>open_issues_count</th>\n",
       "      <th>forks</th>\n",
       "      <th>open_issues</th>\n",
       "      <th>watchers</th>\n",
       "      <th>network_count</th>\n",
       "      <th>admin</th>\n",
       "      <th>push</th>\n",
       "      <th>pull</th>\n",
       "      <th>label</th>\n",
       "      <th>owner</th>\n",
       "      <th>language_C</th>\n",
       "      <th>language_C#</th>\n",
       "      <th>language_C++</th>\n",
       "      <th>language_CSS</th>\n",
       "      <th>language_CoffeeScript</th>\n",
       "      <th>language_Go</th>\n",
       "      <th>language_Java</th>\n",
       "      <th>language_JavaScript</th>\n",
       "      <th>language_PHP</th>\n",
       "      <th>language_Perl</th>\n",
       "      <th>language_Python</th>\n",
       "      <th>language_R</th>\n",
       "      <th>language_Ruby</th>\n",
       "      <th>language_Scala</th>\n",
       "      <th>language_Shell</th>\n",
       "      <th>language_TypeScript</th>\n",
       "      <th>type_Organization</th>\n",
       "      <th>type_User</th>\n",
       "      <th>total_files</th>\n",
       "      <th>results</th>\n",
       "      <th>date_only</th>\n",
       "      <th>is_weekend</th>\n",
       "      <th>is_night</th>\n",
       "      <th>outside_contribution</th>\n",
       "      <th>tests_included</th>\n",
       "      <th>most_changes_added</th>\n",
       "      <th>most_changes_modified</th>\n",
       "      <th>most_changes_removed</th>\n",
       "      <th>most_changes_renamed</th>\n",
       "      <th>most_changes_unknown</th>\n",
       "    </tr>\n",
       "  </thead>\n",
       "  <tbody>\n",
       "    <tr>\n",
       "      <th>0</th>\n",
       "      <td>e566ca34a3fd246a4535c458ae47ff7ea62e2de7</td>\n",
       "      <td>New repository initialized by cvs2svn.</td>\n",
       "      <td>0</td>\n",
       "      <td>2003-02-13T13:38:33Z</td>\n",
       "      <td>0</td>\n",
       "      <td>173</td>\n",
       "      <td>173</td>\n",
       "      <td>[]</td>\n",
       "      <td>[1, 8, 8, 155, 1]</td>\n",
       "      <td>[0, 0, 0, 0, 0]</td>\n",
       "      <td>[1, 8, 8, 155, 1]</td>\n",
       "      <td>[u'added', u'added', u'added', u'added', u'add...</td>\n",
       "      <td>[u'.gitignore', u'pull-binary-libs.sh', u'push...</td>\n",
       "      <td>scala</td>\n",
       "      <td>scala/scala</td>\n",
       "      <td>0</td>\n",
       "      <td>0</td>\n",
       "      <td>100982</td>\n",
       "      <td>1610</td>\n",
       "      <td>1</td>\n",
       "      <td>1</td>\n",
       "      <td>1</td>\n",
       "      <td>506</td>\n",
       "      <td>15</td>\n",
       "      <td>506</td>\n",
       "      <td>15</td>\n",
       "      <td>1610</td>\n",
       "      <td>506</td>\n",
       "      <td>0</td>\n",
       "      <td>0</td>\n",
       "      <td>0</td>\n",
       "      <td>reviewed</td>\n",
       "      <td>scala</td>\n",
       "      <td>0</td>\n",
       "      <td>0</td>\n",
       "      <td>0</td>\n",
       "      <td>0</td>\n",
       "      <td>0</td>\n",
       "      <td>0</td>\n",
       "      <td>0</td>\n",
       "      <td>0</td>\n",
       "      <td>0</td>\n",
       "      <td>0</td>\n",
       "      <td>0</td>\n",
       "      <td>0</td>\n",
       "      <td>0</td>\n",
       "      <td>1</td>\n",
       "      <td>0</td>\n",
       "      <td>0</td>\n",
       "      <td>1</td>\n",
       "      <td>0</td>\n",
       "      <td>5</td>\n",
       "      <td>0</td>\n",
       "      <td>Thursday</td>\n",
       "      <td>0</td>\n",
       "      <td>0</td>\n",
       "      <td>0</td>\n",
       "      <td>0</td>\n",
       "      <td>1</td>\n",
       "      <td>0</td>\n",
       "      <td>0</td>\n",
       "      <td>0</td>\n",
       "      <td>0</td>\n",
       "    </tr>\n",
       "    <tr>\n",
       "      <th>1</th>\n",
       "      <td>33d6e170c97ca7b2f991896a0729941a7240b6d6</td>\n",
       "      <td>- Added .cvsignore</td>\n",
       "      <td>0</td>\n",
       "      <td>2003-02-13T13:38:33Z</td>\n",
       "      <td>0</td>\n",
       "      <td>4</td>\n",
       "      <td>4</td>\n",
       "      <td>[]</td>\n",
       "      <td>[4]</td>\n",
       "      <td>[0]</td>\n",
       "      <td>[4]</td>\n",
       "      <td>[u'added']</td>\n",
       "      <td>[u'.cvsignore']</td>\n",
       "      <td>scala</td>\n",
       "      <td>scala/scala</td>\n",
       "      <td>0</td>\n",
       "      <td>0</td>\n",
       "      <td>100982</td>\n",
       "      <td>1610</td>\n",
       "      <td>1</td>\n",
       "      <td>1</td>\n",
       "      <td>1</td>\n",
       "      <td>506</td>\n",
       "      <td>15</td>\n",
       "      <td>506</td>\n",
       "      <td>15</td>\n",
       "      <td>1610</td>\n",
       "      <td>506</td>\n",
       "      <td>0</td>\n",
       "      <td>0</td>\n",
       "      <td>0</td>\n",
       "      <td>reviewed</td>\n",
       "      <td>scala</td>\n",
       "      <td>0</td>\n",
       "      <td>0</td>\n",
       "      <td>0</td>\n",
       "      <td>0</td>\n",
       "      <td>0</td>\n",
       "      <td>0</td>\n",
       "      <td>0</td>\n",
       "      <td>0</td>\n",
       "      <td>0</td>\n",
       "      <td>0</td>\n",
       "      <td>0</td>\n",
       "      <td>0</td>\n",
       "      <td>0</td>\n",
       "      <td>1</td>\n",
       "      <td>0</td>\n",
       "      <td>0</td>\n",
       "      <td>1</td>\n",
       "      <td>0</td>\n",
       "      <td>1</td>\n",
       "      <td>0</td>\n",
       "      <td>Thursday</td>\n",
       "      <td>0</td>\n",
       "      <td>0</td>\n",
       "      <td>0</td>\n",
       "      <td>0</td>\n",
       "      <td>1</td>\n",
       "      <td>0</td>\n",
       "      <td>0</td>\n",
       "      <td>0</td>\n",
       "      <td>0</td>\n",
       "    </tr>\n",
       "    <tr>\n",
       "      <th>2</th>\n",
       "      <td>4177daab2f54bdb20c71f623296a8bb32616fd12</td>\n",
       "      <td>Initial version.</td>\n",
       "      <td>0</td>\n",
       "      <td>2003-02-13T14:41:36Z</td>\n",
       "      <td>0</td>\n",
       "      <td>23138</td>\n",
       "      <td>23138</td>\n",
       "      <td>[]</td>\n",
       "      <td>[87, 221, 354, 38, 45, 169, 96, 123, 30, 430, ...</td>\n",
       "      <td>[0, 0, 0, 0, 0, 0, 0, 0, 0, 0, 0, 0, 0, 0, 0, ...</td>\n",
       "      <td>[87, 221, 354, 38, 45, 169, 96, 123, 30, 430, ...</td>\n",
       "      <td>[u'added', u'added', u'added', u'added', u'add...</td>\n",
       "      <td>[u'sources/scalac/ApplicationError.java', u'so...</td>\n",
       "      <td>scala</td>\n",
       "      <td>scala/scala</td>\n",
       "      <td>0</td>\n",
       "      <td>0</td>\n",
       "      <td>100982</td>\n",
       "      <td>1610</td>\n",
       "      <td>1</td>\n",
       "      <td>1</td>\n",
       "      <td>1</td>\n",
       "      <td>506</td>\n",
       "      <td>15</td>\n",
       "      <td>506</td>\n",
       "      <td>15</td>\n",
       "      <td>1610</td>\n",
       "      <td>506</td>\n",
       "      <td>0</td>\n",
       "      <td>0</td>\n",
       "      <td>0</td>\n",
       "      <td>reviewed</td>\n",
       "      <td>scala</td>\n",
       "      <td>0</td>\n",
       "      <td>0</td>\n",
       "      <td>0</td>\n",
       "      <td>0</td>\n",
       "      <td>0</td>\n",
       "      <td>0</td>\n",
       "      <td>0</td>\n",
       "      <td>0</td>\n",
       "      <td>0</td>\n",
       "      <td>0</td>\n",
       "      <td>0</td>\n",
       "      <td>0</td>\n",
       "      <td>0</td>\n",
       "      <td>1</td>\n",
       "      <td>0</td>\n",
       "      <td>0</td>\n",
       "      <td>1</td>\n",
       "      <td>0</td>\n",
       "      <td>81</td>\n",
       "      <td>0</td>\n",
       "      <td>Thursday</td>\n",
       "      <td>0</td>\n",
       "      <td>0</td>\n",
       "      <td>0</td>\n",
       "      <td>0</td>\n",
       "      <td>1</td>\n",
       "      <td>0</td>\n",
       "      <td>0</td>\n",
       "      <td>0</td>\n",
       "      <td>0</td>\n",
       "    </tr>\n",
       "    <tr>\n",
       "      <th>3</th>\n",
       "      <td>073294fbbaf752ed4f9005eb9421b7bd4f475173</td>\n",
       "      <td>- Added list of compiler source files\\n\\n- Add...</td>\n",
       "      <td>0</td>\n",
       "      <td>2003-02-14T10:18:21Z</td>\n",
       "      <td>0</td>\n",
       "      <td>253</td>\n",
       "      <td>253</td>\n",
       "      <td>[]</td>\n",
       "      <td>[2, 157, 94]</td>\n",
       "      <td>[0, 0, 0]</td>\n",
       "      <td>[2, 157, 94]</td>\n",
       "      <td>[u'modified', u'added', u'added']</td>\n",
       "      <td>[u'.cvsignore', u'Makefile', u'config/list/com...</td>\n",
       "      <td>scala</td>\n",
       "      <td>scala/scala</td>\n",
       "      <td>0</td>\n",
       "      <td>0</td>\n",
       "      <td>100982</td>\n",
       "      <td>1610</td>\n",
       "      <td>1</td>\n",
       "      <td>1</td>\n",
       "      <td>1</td>\n",
       "      <td>506</td>\n",
       "      <td>15</td>\n",
       "      <td>506</td>\n",
       "      <td>15</td>\n",
       "      <td>1610</td>\n",
       "      <td>506</td>\n",
       "      <td>0</td>\n",
       "      <td>0</td>\n",
       "      <td>0</td>\n",
       "      <td>reviewed</td>\n",
       "      <td>scala</td>\n",
       "      <td>0</td>\n",
       "      <td>0</td>\n",
       "      <td>0</td>\n",
       "      <td>0</td>\n",
       "      <td>0</td>\n",
       "      <td>0</td>\n",
       "      <td>0</td>\n",
       "      <td>0</td>\n",
       "      <td>0</td>\n",
       "      <td>0</td>\n",
       "      <td>0</td>\n",
       "      <td>0</td>\n",
       "      <td>0</td>\n",
       "      <td>1</td>\n",
       "      <td>0</td>\n",
       "      <td>0</td>\n",
       "      <td>1</td>\n",
       "      <td>0</td>\n",
       "      <td>3</td>\n",
       "      <td>0</td>\n",
       "      <td>Friday</td>\n",
       "      <td>0</td>\n",
       "      <td>0</td>\n",
       "      <td>0</td>\n",
       "      <td>0</td>\n",
       "      <td>0</td>\n",
       "      <td>1</td>\n",
       "      <td>0</td>\n",
       "      <td>0</td>\n",
       "      <td>0</td>\n",
       "    </tr>\n",
       "    <tr>\n",
       "      <th>4</th>\n",
       "      <td>23d2bfbeb21f63d82ed46d5b1b0b85b1ed2f4355</td>\n",
       "      <td>Initial version.</td>\n",
       "      <td>0</td>\n",
       "      <td>2003-02-14T13:36:31Z</td>\n",
       "      <td>0</td>\n",
       "      <td>859</td>\n",
       "      <td>859</td>\n",
       "      <td>[]</td>\n",
       "      <td>[12, 3, 13, 9, 35, 345, 15, 13, 6, 21, 48, 6, ...</td>\n",
       "      <td>[0, 0, 0, 0, 0, 0, 0, 0, 0, 0, 0, 0, 0, 0, 0, ...</td>\n",
       "      <td>[12, 3, 13, 9, 35, 345, 15, 13, 6, 21, 48, 6, ...</td>\n",
       "      <td>[u'added', u'added', u'added', u'added', u'add...</td>\n",
       "      <td>[u'sources/scala/$colon$colon.scala', u'source...</td>\n",
       "      <td>scala</td>\n",
       "      <td>scala/scala</td>\n",
       "      <td>0</td>\n",
       "      <td>0</td>\n",
       "      <td>100982</td>\n",
       "      <td>1610</td>\n",
       "      <td>1</td>\n",
       "      <td>1</td>\n",
       "      <td>1</td>\n",
       "      <td>506</td>\n",
       "      <td>15</td>\n",
       "      <td>506</td>\n",
       "      <td>15</td>\n",
       "      <td>1610</td>\n",
       "      <td>506</td>\n",
       "      <td>0</td>\n",
       "      <td>0</td>\n",
       "      <td>0</td>\n",
       "      <td>reviewed</td>\n",
       "      <td>scala</td>\n",
       "      <td>0</td>\n",
       "      <td>0</td>\n",
       "      <td>0</td>\n",
       "      <td>0</td>\n",
       "      <td>0</td>\n",
       "      <td>0</td>\n",
       "      <td>0</td>\n",
       "      <td>0</td>\n",
       "      <td>0</td>\n",
       "      <td>0</td>\n",
       "      <td>0</td>\n",
       "      <td>0</td>\n",
       "      <td>0</td>\n",
       "      <td>1</td>\n",
       "      <td>0</td>\n",
       "      <td>0</td>\n",
       "      <td>1</td>\n",
       "      <td>0</td>\n",
       "      <td>22</td>\n",
       "      <td>0</td>\n",
       "      <td>Friday</td>\n",
       "      <td>0</td>\n",
       "      <td>0</td>\n",
       "      <td>0</td>\n",
       "      <td>0</td>\n",
       "      <td>1</td>\n",
       "      <td>0</td>\n",
       "      <td>0</td>\n",
       "      <td>0</td>\n",
       "      <td>0</td>\n",
       "    </tr>\n",
       "  </tbody>\n",
       "</table>\n",
       "</div>"
      ],
      "text/plain": [
       "                                        sha                                            message  comment_count                  date  total_deletions  total_additions  total comments                                          additions                                          deletions                                            changes                                             status                                          filenames   name     fullname  private  fork    size  watchers_count  has_issues  has_downloads  has_wiki  forks_count  open_issues_count  forks  open_issues  watchers  network_count  admin  push  pull     label  owner  language_C  language_C#  language_C++  language_CSS  language_CoffeeScript  language_Go  language_Java  language_JavaScript  language_PHP  language_Perl  language_Python  language_R  language_Ruby  language_Scala  language_Shell  language_TypeScript  type_Organization  type_User  total_files  results date_only  is_weekend  is_night  \\\n",
       "0  e566ca34a3fd246a4535c458ae47ff7ea62e2de7             New repository initialized by cvs2svn.              0  2003-02-13T13:38:33Z                0              173    173       []                                  [1, 8, 8, 155, 1]                                    [0, 0, 0, 0, 0]                                  [1, 8, 8, 155, 1]  [u'added', u'added', u'added', u'added', u'add...  [u'.gitignore', u'pull-binary-libs.sh', u'push...  scala  scala/scala        0     0  100982            1610           1              1         1          506                 15    506           15      1610            506      0     0     0  reviewed  scala           0            0             0             0                      0            0              0                    0             0              0                0           0              0               1               0                    0                  1          0            5        0  Thursday           0         0   \n",
       "1  33d6e170c97ca7b2f991896a0729941a7240b6d6                                 - Added .cvsignore              0  2003-02-13T13:38:33Z                0                4      4       []                                                [4]                                                [0]                                                [4]                                         [u'added']                                    [u'.cvsignore']  scala  scala/scala        0     0  100982            1610           1              1         1          506                 15    506           15      1610            506      0     0     0  reviewed  scala           0            0             0             0                      0            0              0                    0             0              0                0           0              0               1               0                    0                  1          0            1        0  Thursday           0         0   \n",
       "2  4177daab2f54bdb20c71f623296a8bb32616fd12                                   Initial version.              0  2003-02-13T14:41:36Z                0            23138  23138       []  [87, 221, 354, 38, 45, 169, 96, 123, 30, 430, ...  [0, 0, 0, 0, 0, 0, 0, 0, 0, 0, 0, 0, 0, 0, 0, ...  [87, 221, 354, 38, 45, 169, 96, 123, 30, 430, ...  [u'added', u'added', u'added', u'added', u'add...  [u'sources/scalac/ApplicationError.java', u'so...  scala  scala/scala        0     0  100982            1610           1              1         1          506                 15    506           15      1610            506      0     0     0  reviewed  scala           0            0             0             0                      0            0              0                    0             0              0                0           0              0               1               0                    0                  1          0           81        0  Thursday           0         0   \n",
       "3  073294fbbaf752ed4f9005eb9421b7bd4f475173  - Added list of compiler source files\\n\\n- Add...              0  2003-02-14T10:18:21Z                0              253    253       []                                       [2, 157, 94]                                          [0, 0, 0]                                       [2, 157, 94]                  [u'modified', u'added', u'added']  [u'.cvsignore', u'Makefile', u'config/list/com...  scala  scala/scala        0     0  100982            1610           1              1         1          506                 15    506           15      1610            506      0     0     0  reviewed  scala           0            0             0             0                      0            0              0                    0             0              0                0           0              0               1               0                    0                  1          0            3        0    Friday           0         0   \n",
       "4  23d2bfbeb21f63d82ed46d5b1b0b85b1ed2f4355                                   Initial version.              0  2003-02-14T13:36:31Z                0              859    859       []  [12, 3, 13, 9, 35, 345, 15, 13, 6, 21, 48, 6, ...  [0, 0, 0, 0, 0, 0, 0, 0, 0, 0, 0, 0, 0, 0, 0, ...  [12, 3, 13, 9, 35, 345, 15, 13, 6, 21, 48, 6, ...  [u'added', u'added', u'added', u'added', u'add...  [u'sources/scala/$colon$colon.scala', u'source...  scala  scala/scala        0     0  100982            1610           1              1         1          506                 15    506           15      1610            506      0     0     0  reviewed  scala           0            0             0             0                      0            0              0                    0             0              0                0           0              0               1               0                    0                  1          0           22        0    Friday           0         0   \n",
       "\n",
       "   outside_contribution  tests_included  most_changes_added  most_changes_modified  most_changes_removed  most_changes_renamed  most_changes_unknown  \n",
       "0                     0               0                   1                      0                     0                     0                     0  \n",
       "1                     0               0                   1                      0                     0                     0                     0  \n",
       "2                     0               0                   1                      0                     0                     0                     0  \n",
       "3                     0               0                   0                      1                     0                     0                     0  \n",
       "4                     0               0                   1                      0                     0                     0                     0  "
      ]
     },
     "execution_count": 29,
     "metadata": {},
     "output_type": "execute_result"
    }
   ],
   "source": [
    "df.head(5)"
   ]
  },
  {
   "cell_type": "code",
   "execution_count": 30,
   "metadata": {},
   "outputs": [],
   "source": [
    "# save the csv\n",
    "df.to_csv('../data/total_processed.csv')"
   ]
  },
  {
   "cell_type": "code",
   "execution_count": null,
   "metadata": {},
   "outputs": [],
   "source": []
  }
 ],
 "metadata": {
  "kernelspec": {
   "display_name": "Python 3",
   "language": "python",
   "name": "python3"
  },
  "language_info": {
   "codemirror_mode": {
    "name": "ipython",
    "version": 3
   },
   "file_extension": ".py",
   "mimetype": "text/x-python",
   "name": "python",
   "nbconvert_exporter": "python",
   "pygments_lexer": "ipython3",
   "version": "3.7.3"
  }
 },
 "nbformat": 4,
 "nbformat_minor": 2
}
