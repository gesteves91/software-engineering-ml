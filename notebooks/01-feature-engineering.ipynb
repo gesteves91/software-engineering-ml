{
 "cells": [
  {
   "cell_type": "markdown",
   "metadata": {},
   "source": [
    "# Feature Engineering Github Data"
   ]
  },
  {
   "cell_type": "code",
   "execution_count": 16,
   "metadata": {},
   "outputs": [],
   "source": [
    "# import libraries\n",
    "import pandas as pd\n",
    "import numpy as np"
   ]
  },
  {
   "cell_type": "code",
   "execution_count": 17,
   "metadata": {},
   "outputs": [],
   "source": [
    "pd.set_option('display.max_rows', 500)\n",
    "pd.set_option('display.max_columns', 500)\n",
    "pd.set_option('display.width', 1000)"
   ]
  },
  {
   "cell_type": "code",
   "execution_count": 18,
   "metadata": {},
   "outputs": [],
   "source": [
    "# read the data\n",
    "#df = pd.read_csv(\"../data/total.csv\")\n",
    "df = pd.read_csv(\"../data/raw_data.csv\")"
   ]
  },
  {
   "cell_type": "code",
   "execution_count": 19,
   "metadata": {},
   "outputs": [
    {
     "output_type": "execute_result",
     "data": {
      "text/plain": "(601077, 38)"
     },
     "metadata": {},
     "execution_count": 19
    }
   ],
   "source": [
    "# checking the data shape\n",
    "df.shape"
   ]
  },
  {
   "cell_type": "markdown",
   "metadata": {},
   "source": [
    "### One hot-encoding"
   ]
  },
  {
   "cell_type": "code",
   "execution_count": 20,
   "metadata": {},
   "outputs": [],
   "source": [
    "# import preprocessing from sklearn\n",
    "from sklearn import preprocessing\n",
    "le = preprocessing.LabelEncoder()"
   ]
  },
  {
   "cell_type": "code",
   "execution_count": 21,
   "metadata": {},
   "outputs": [
    {
     "output_type": "execute_result",
     "data": {
      "text/plain": "Ruby            131266\nPHP              77864\nC                73122\nC#               70584\nC++              67798\nPython           52618\nScala            44034\nJavaScript       41450\nJava             29195\nTypeScript        4904\nR                 4313\nCSS               2910\nGo                 905\nCoffeeScript        76\nPerl                32\nShell                2\nName: language, dtype: int64"
     },
     "metadata": {},
     "execution_count": 21
    }
   ],
   "source": [
    "df.language.value_counts()"
   ]
  },
  {
   "cell_type": "code",
   "execution_count": 22,
   "metadata": {},
   "outputs": [],
   "source": [
    "# encoding these columns that are 0/1\n",
    "df['private'] = le.fit_transform(df.private.values)\n",
    "df['fork'] = le.fit_transform(df.fork.values)\n",
    "df['has_issues'] = le.fit_transform(df.has_issues.values)\n",
    "df['has_downloads'] = le.fit_transform(df.has_downloads.values)\n",
    "df['has_wiki'] = le.fit_transform(df.has_wiki.values)\n",
    "df['admin'] = le.fit_transform(df.admin.values)\n",
    "df['push'] = le.fit_transform(df.push.values)\n",
    "df['pull'] = le.fit_transform(df.pull.values)"
   ]
  },
  {
   "cell_type": "code",
   "execution_count": 23,
   "metadata": {},
   "outputs": [],
   "source": [
    "# encoding the language categorical feature\n",
    "#df = pd.get_dummies(df, columns = [\"language\", \"label\", \"type\"])\n",
    "df = pd.get_dummies(df, columns = [\"language\", \"type\"])"
   ]
  },
  {
   "cell_type": "code",
   "execution_count": 24,
   "metadata": {},
   "outputs": [
    {
     "output_type": "execute_result",
     "data": {
      "text/plain": "(601077, 54)"
     },
     "metadata": {},
     "execution_count": 24
    }
   ],
   "source": [
    "df.shape"
   ]
  },
  {
   "cell_type": "markdown",
   "metadata": {},
   "source": [
    "### Total Files"
   ]
  },
  {
   "cell_type": "code",
   "execution_count": 25,
   "metadata": {},
   "outputs": [],
   "source": [
    "# create a new column called total_files that sums up the filenames column\n",
    "df['total_files'] = df.apply(lambda row: row.filenames.count(',') + 1, axis=1)"
   ]
  },
  {
   "cell_type": "markdown",
   "metadata": {},
   "source": [
    "### Y Creation"
   ]
  },
  {
   "cell_type": "code",
   "execution_count": 26,
   "metadata": {},
   "outputs": [],
   "source": [
    "# use that paper to classify the commits as being defective of not\n",
    "df['results'] = np.where(df['message'].str.lower().str.contains(\"bug|fix|error|wrong|fail|problem|patch\"), \n",
    "                         1, \n",
    "                         0)"
   ]
  },
  {
   "cell_type": "markdown",
   "metadata": {},
   "source": [
    "#### Delete null date column and date that is equal to 1"
   ]
  },
  {
   "cell_type": "code",
   "execution_count": 27,
   "metadata": {},
   "outputs": [],
   "source": [
    "df = df[pd.notnull(df['date'])]\n",
    "df = df.drop(df[(df.date == '1')].index)"
   ]
  },
  {
   "cell_type": "markdown",
   "metadata": {},
   "source": [
    "### Order by the name and date"
   ]
  },
  {
   "cell_type": "code",
   "execution_count": 28,
   "metadata": {},
   "outputs": [],
   "source": [
    "df = df.sort_values('name')\n",
    "df = df.sort_values('date')"
   ]
  },
  {
   "cell_type": "markdown",
   "metadata": {},
   "source": [
    "#### Reset the Index"
   ]
  },
  {
   "cell_type": "code",
   "execution_count": 29,
   "metadata": {},
   "outputs": [],
   "source": [
    "df = df.reset_index(drop=True)"
   ]
  },
  {
   "cell_type": "markdown",
   "metadata": {},
   "source": [
    "### Find the Weekend"
   ]
  },
  {
   "cell_type": "code",
   "execution_count": 30,
   "metadata": {},
   "outputs": [],
   "source": [
    "import datetime\n",
    "import re\n",
    "\n",
    "def transformStringDate(strDate):\n",
    "    match = re.search(r'\\d{4}-\\d{2}-\\d{2}', strDate)\n",
    "    date = datetime.datetime.strptime(match.group(), '%Y-%m-%d').date()\n",
    "    return date.strftime('%A')"
   ]
  },
  {
   "cell_type": "code",
   "execution_count": 31,
   "metadata": {},
   "outputs": [],
   "source": [
    "df['date_only'] = df['date'].apply(transformStringDate)"
   ]
  },
  {
   "cell_type": "code",
   "execution_count": 32,
   "metadata": {},
   "outputs": [],
   "source": [
    "def weekendcheck(s):\n",
    "    if s == 'Saturday' or s == 'Sunday': \n",
    "        return 1\n",
    "    else:\n",
    "        return 0\n",
    "\n",
    "df['is_weekend'] = df['date_only'].apply(weekendcheck)"
   ]
  },
  {
   "cell_type": "markdown",
   "metadata": {},
   "source": [
    "### Find the night"
   ]
  },
  {
   "cell_type": "code",
   "execution_count": 33,
   "metadata": {},
   "outputs": [],
   "source": [
    "def isnight(datetimeobject):\n",
    "    match = re.search('\\d{2}:\\d{2}:\\d{2}', datetimeobject).group(0)\n",
    "    first_two_letters = match[:2]\n",
    "    if int(first_two_letters) > 20 or int(first_two_letters) < 6:\n",
    "        return(1)\n",
    "    else:\n",
    "        return(0)"
   ]
  },
  {
   "cell_type": "code",
   "execution_count": 34,
   "metadata": {},
   "outputs": [],
   "source": [
    "df['is_night'] = df['date'].apply(isnight)"
   ]
  },
  {
   "cell_type": "markdown",
   "metadata": {},
   "source": [
    "### Extract the Owner"
   ]
  },
  {
   "cell_type": "code",
   "execution_count": 35,
   "metadata": {},
   "outputs": [],
   "source": [
    "def checkOwner(fullname):\n",
    "    data = fullname.split(\"/\")\n",
    "    \n",
    "    if(data[0] == data[1]):\n",
    "        return(0)\n",
    "    else:\n",
    "        return(1)"
   ]
  },
  {
   "cell_type": "code",
   "execution_count": 36,
   "metadata": {},
   "outputs": [],
   "source": [
    "df['outside_contribution'] = df['fullname'].apply(checkOwner)\n",
    "#df['outside_contribution'] = df.apply(lambda x: checkOwner(x.fullname, x.owner), axis=1)"
   ]
  },
  {
   "cell_type": "markdown",
   "metadata": {},
   "source": [
    "### Check for Tests"
   ]
  },
  {
   "cell_type": "code",
   "execution_count": 37,
   "metadata": {},
   "outputs": [],
   "source": [
    "def checkTests(filesCommitted): \n",
    "    #for names in filesCommitted:\n",
    "    if (filesCommitted.find('test') != -1 or filesCommitted.find('Test') != -1): \n",
    "        return 1 \n",
    "\n",
    "    return 0"
   ]
  },
  {
   "cell_type": "code",
   "execution_count": 38,
   "metadata": {},
   "outputs": [],
   "source": [
    "df['tests_included'] = df['filenames'].apply(checkTests)"
   ]
  },
  {
   "cell_type": "code",
   "execution_count": 39,
   "metadata": {},
   "outputs": [
    {
     "output_type": "execute_result",
     "data": {
      "text/plain": "0    454950\n1    146127\nName: tests_included, dtype: int64"
     },
     "metadata": {},
     "execution_count": 39
    }
   ],
   "source": [
    "df.tests_included.value_counts()"
   ]
  },
  {
   "cell_type": "markdown",
   "metadata": {},
   "source": [
    "### Check the Changes"
   ]
  },
  {
   "cell_type": "code",
   "execution_count": 40,
   "metadata": {},
   "outputs": [],
   "source": [
    "from collections import Counter\n",
    "\n",
    "def checkChanges(fileStatus): \n",
    "    list_files = fileStatus.split(\",\")\n",
    "    occurence = Counter(list_files).most_common(1)\n",
    "    tupleOccurences = occurence[0]\n",
    "    if (tupleOccurences[0].find('modified') != -1): \n",
    "        return 'modified'\n",
    "    elif (tupleOccurences[0].find('added') != -1): \n",
    "        return 'added'\n",
    "    elif (tupleOccurences[0].find('removed') != -1): \n",
    "        return 'removed'\n",
    "    elif (tupleOccurences[0].find('renamed') != -1): \n",
    "        return 'renamed'\n",
    "    else:\n",
    "        return 'unknown'"
   ]
  },
  {
   "cell_type": "code",
   "execution_count": 41,
   "metadata": {},
   "outputs": [],
   "source": [
    "df['most_changes'] = df['status'].apply(checkChanges)"
   ]
  },
  {
   "cell_type": "code",
   "execution_count": 42,
   "metadata": {},
   "outputs": [
    {
     "output_type": "execute_result",
     "data": {
      "text/plain": "array(['added', 'modified', 'removed', 'renamed', 'unknown'], dtype=object)"
     },
     "metadata": {},
     "execution_count": 42
    }
   ],
   "source": [
    "df.most_changes.unique()"
   ]
  },
  {
   "cell_type": "code",
   "execution_count": 43,
   "metadata": {},
   "outputs": [],
   "source": [
    "# encoding the language categorical feature\n",
    "df = pd.get_dummies(df, columns = [\"most_changes\"])"
   ]
  },
  {
   "cell_type": "code",
   "execution_count": 44,
   "metadata": {},
   "outputs": [],
   "source": [
    "#df.head(5)"
   ]
  },
  {
   "cell_type": "code",
   "execution_count": 45,
   "metadata": {},
   "outputs": [
    {
     "output_type": "execute_result",
     "data": {
      "text/plain": "Index(['sha', 'message', 'comment_count', 'date', 'total_deletions', 'total_additions', 'total', 'comments', 'additions', 'deletions', 'changes', 'status', 'filenames', 'name', 'fullname', 'private', 'fork', 'size', 'watchers_count', 'has_issues', 'has_downloads', 'has_wiki', 'forks_count', 'open_issues_count', 'forks', 'open_issues', 'watchers', 'network_count', 'admin', 'push', 'pull', 'label', 'owner', 'followers', 'following', 'public_gists', 'language_C', 'language_C#', 'language_C++', 'language_CSS', 'language_CoffeeScript', 'language_Go', 'language_Java', 'language_JavaScript', 'language_PHP', 'language_Perl', 'language_Python', 'language_R', 'language_Ruby', 'language_Scala', 'language_Shell', 'language_TypeScript', 'type_Organization', 'type_User', 'total_files', 'results', 'date_only', 'is_weekend', 'is_night', 'outside_contribution', 'tests_included', 'most_changes_added', 'most_changes_modified', 'most_changes_removed', 'most_changes_renamed', 'most_changes_unknown'], dtype='object')"
     },
     "metadata": {},
     "execution_count": 45
    }
   ],
   "source": [
    "df.columns"
   ]
  },
  {
   "cell_type": "code",
   "execution_count": 30,
   "metadata": {},
   "outputs": [],
   "source": [
    "# save the csv\n",
    "df.to_csv('../data/total_processed.csv')"
   ]
  },
  {
   "cell_type": "code",
   "execution_count": null,
   "metadata": {},
   "outputs": [],
   "source": []
  }
 ],
 "metadata": {
  "kernelspec": {
   "display_name": "Python 3",
   "language": "python",
   "name": "python3"
  },
  "language_info": {
   "codemirror_mode": {
    "name": "ipython",
    "version": 3
   },
   "file_extension": ".py",
   "mimetype": "text/x-python",
   "name": "python",
   "nbconvert_exporter": "python",
   "pygments_lexer": "ipython3",
   "version": "3.8.2-final"
  }
 },
 "nbformat": 4,
 "nbformat_minor": 4
}