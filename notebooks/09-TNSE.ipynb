{
 "cells": [
  {
   "cell_type": "markdown",
   "metadata": {},
   "source": [
    "# TNSE with SHAP"
   ]
  },
  {
   "cell_type": "markdown",
   "metadata": {},
   "source": [
    "#### Import libraries"
   ]
  },
  {
   "cell_type": "code",
   "execution_count": 3,
   "metadata": {},
   "outputs": [],
   "source": [
    "%matplotlib inline\n",
    "import matplotlib.pyplot as plt"
   ]
  },
  {
   "cell_type": "code",
   "execution_count": 4,
   "metadata": {},
   "outputs": [],
   "source": [
    "from numpy import loadtxt\n",
    "from numpy import concatenate\n",
    "from numpy import array\n",
    "from mpl_toolkits.mplot3d import Axes3D\n",
    "from sklearn.manifold import TSNE"
   ]
  },
  {
   "cell_type": "markdown",
   "metadata": {},
   "source": [
    "#### Load data"
   ]
  },
  {
   "cell_type": "code",
   "execution_count": 5,
   "metadata": {},
   "outputs": [],
   "source": [
    "php_shap = loadtxt('../data/PHP-shap.csv', delimiter=',')\n",
    "ruby_shap = loadtxt('../data/ruby-shap.csv', delimiter=',')\n",
    "c_shap = loadtxt('../data/c-shap.csv', delimiter=',')\n",
    "py_shap = loadtxt('../data/python-shap.csv', delimiter=',')\n",
    "scala_shap = loadtxt('../data/scala-shap.csv', delimiter=',')\n",
    "java_shap = loadtxt('../data/java-shap.csv', delimiter=',')"
   ]
  },
  {
   "cell_type": "code",
   "execution_count": 6,
   "metadata": {},
   "outputs": [],
   "source": [
    "#php_shap = loadtxt('../data/php-shap-2.csv', delimiter=',')\n",
    "#ruby_shap = loadtxt('../data/ruby-shap-2.csv', delimiter=',')\n",
    "#c_shap = loadtxt('../data/c-shap-2.csv', delimiter=',')\n",
    "#py_shap = loadtxt('../data/python-shap-2.csv', delimiter=',')\n",
    "#r_shap = loadtxt('../data/r-shap-2.csv', delimiter=',')\n",
    "#java_shap = loadtxt('../data/java-shap-2.csv', delimiter=',')"
   ]
  },
  {
   "cell_type": "markdown",
   "metadata": {},
   "source": [
    "#### Preparing data"
   ]
  },
  {
   "cell_type": "code",
   "execution_count": 7,
   "metadata": {},
   "outputs": [],
   "source": [
    "# x and y lists (features and target)\n",
    "x = []\n",
    "aux = []"
   ]
  },
  {
   "cell_type": "code",
   "execution_count": 8,
   "metadata": {},
   "outputs": [],
   "source": [
    "x.append(php_shap)\n",
    "x.append(ruby_shap)\n",
    "x.append(c_shap)\n",
    "x.append(py_shap)\n",
    "x.append(scala_shap)\n",
    "x.append(java_shap)"
   ]
  },
  {
   "cell_type": "code",
   "execution_count": 9,
   "metadata": {},
   "outputs": [],
   "source": [
    "aux.append(0)\n",
    "aux.append(1)\n",
    "aux.append(2)\n",
    "aux.append(3)\n",
    "aux.append(4)\n",
    "aux.append(5)\n",
    "\n",
    "y = array(aux)"
   ]
  },
  {
   "cell_type": "code",
   "execution_count": 10,
   "metadata": {},
   "outputs": [
    {
     "data": {
      "text/plain": [
       "16830128"
      ]
     },
     "execution_count": 10,
     "metadata": {},
     "output_type": "execute_result"
    }
   ],
   "source": [
    "len(x[2])"
   ]
  },
  {
   "cell_type": "markdown",
   "metadata": {},
   "source": [
    "#### TNSE"
   ]
  },
  {
   "cell_type": "code",
   "execution_count": 168,
   "metadata": {},
   "outputs": [],
   "source": [
    "tsne = TSNE(n_components=3, \n",
    "            init='pca', \n",
    "            verbose=1, \n",
    "            perplexity=50, \n",
    "            n_iter=250, \n",
    "            random_state=0)"
   ]
  },
  {
   "cell_type": "code",
   "execution_count": 169,
   "metadata": {},
   "outputs": [
    {
     "name": "stdout",
     "output_type": "stream",
     "text": [
      "[t-SNE] Computing 5 nearest neighbors...\n",
      "[t-SNE] Indexed 6 samples in 0.028s...\n",
      "[t-SNE] Computed neighbors for 6 samples in 0.178s...\n",
      "[t-SNE] Computed conditional probabilities for sample 6 / 6\n",
      "[t-SNE] Mean sigma: 1125899906842624.000000\n",
      "[t-SNE] KL divergence after 250 iterations with early exaggeration: 85.642220\n",
      "[t-SNE] KL divergence after 251 iterations: 179769313486231570814527423731704356798070567525844996598917476803157260780028538760589558632766878171540458953514382464234321326889464182768467546703537516986049910576551282076245490090389328944075868508455133942304583236903222948165808559332123348274797826204144723168738177180919299881250404026184124858368.000000\n"
     ]
    }
   ],
   "source": [
    "X_2d = tsne.fit_transform(x)"
   ]
  },
  {
   "cell_type": "code",
   "execution_count": 170,
   "metadata": {},
   "outputs": [
    {
     "data": {
      "text/plain": [
       "array([[-543.7392 , 1943.0338 ,   88.82339],\n",
       "       [3364.27   ,  -71.80619,  -41.93495],\n",
       "       [-633.8864 , -384.68207, -411.81076],\n",
       "       [-558.4831 , -631.5044 ,  812.7488 ],\n",
       "       [-860.55005, -452.48007, -165.4272 ],\n",
       "       [-755.6967 , -408.89127, -305.82498]], dtype=float32)"
      ]
     },
     "execution_count": 170,
     "metadata": {},
     "output_type": "execute_result"
    }
   ],
   "source": [
    "X_2d"
   ]
  },
  {
   "cell_type": "code",
   "execution_count": 171,
   "metadata": {},
   "outputs": [
    {
     "data": {
      "image/png": "[encoded data removed]",
      "text/plain": [
       "<Figure size 432x288 with 2 Axes>"
      ]
     },
     "metadata": {
      "needs_background": "light"
     },
     "output_type": "display_data"
    }
   ],
   "source": [
    "# plot the result\n",
    "vis_x = X_2d[:, 0]\n",
    "vis_y = X_2d[:, 1]\n",
    "classes = ['PHP', 'Ruby', 'C', 'Python', 'Scala', 'Java']\n",
    "scatter = plt.scatter(vis_x, vis_y, c=y, cmap=plt.cm.get_cmap(\"jet\", 6))\n",
    "#plt.scatter(vis_x, vis_y, c=y, cmap=plt.cm.get_cmap(\"rainbow\", 6))\n",
    "plt.colorbar(ticks=range(6))\n",
    "plt.clim(-0.5, 5.5)\n",
    "plt.legend(handles=scatter.legend_elements()[0], labels=classes)\n",
    "plt.savefig('../reports/languages-tnse.png')\n",
    "plt.show()"
   ]
  },
  {
   "cell_type": "markdown",
   "metadata": {},
   "source": [
    "#### That's all folks!!!"
   ]
  },
  {
   "cell_type": "code",
   "execution_count": null,
   "metadata": {},
   "outputs": [],
   "source": []
  }
 ],
 "metadata": {
  "kernelspec": {
   "display_name": "Python 3",
   "language": "python",
   "name": "python3"
  },
  "language_info": {
   "codemirror_mode": {
    "name": "ipython",
    "version": 3
   },
   "file_extension": ".py",
   "mimetype": "text/x-python",
   "name": "python",
   "nbconvert_exporter": "python",
   "pygments_lexer": "ipython3",
   "version": "3.7.3"
  }
 },
 "nbformat": 4,
 "nbformat_minor": 2
}
