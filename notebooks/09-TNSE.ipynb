{
 "cells": [
  {
   "cell_type": "markdown",
   "metadata": {},
   "source": [
    "# TNSE with SHAP"
   ]
  },
  {
   "cell_type": "markdown",
   "metadata": {},
   "source": [
    "#### Import libraries"
   ]
  },
  {
   "cell_type": "code",
   "execution_count": 3,
   "metadata": {},
   "outputs": [],
   "source": [
    "%matplotlib inline\n",
    "import matplotlib.pyplot as plt\n",
    "plt.style.use('seaborn-whitegrid')"
   ]
  },
  {
   "cell_type": "code",
   "execution_count": 4,
   "metadata": {},
   "outputs": [],
   "source": [
    "from numpy import loadtxt\n",
    "from numpy import concatenate\n",
    "from numpy import array\n",
    "from mpl_toolkits.mplot3d import Axes3D\n",
    "from sklearn.manifold import TSNE"
   ]
  },
  {
   "cell_type": "markdown",
   "metadata": {},
   "source": [
    "#### Load data"
   ]
  },
  {
   "cell_type": "code",
   "execution_count": 5,
   "metadata": {},
   "outputs": [],
   "source": [
    "php_shap = loadtxt('../data/php-low-shap.csv', delimiter=',')\n",
    "ruby_shap = loadtxt('../data/ruby-low-shap.csv', delimiter=',')\n",
    "c_shap = loadtxt('../data/c-low-shap.csv', delimiter=',')\n",
    "py_shap = loadtxt('../data/python-low-shap.csv', delimiter=',')\n",
    "scala_shap = loadtxt('../data/scala-low-shap.csv', delimiter=',')\n",
    "java_shap = loadtxt('../data/java-low-shap.csv', delimiter=',')"
   ]
  },
  {
   "cell_type": "code",
   "execution_count": 6,
   "metadata": {},
   "outputs": [],
   "source": [
    "#php_shap = loadtxt('../data/PHP-shap.csv', delimiter=',')\n",
    "#ruby_shap = loadtxt('../data/ruby-shap.csv', delimiter=',')\n",
    "#c_shap = loadtxt('../data/c-shap.csv', delimiter=',')\n",
    "#py_shap = loadtxt('../data/python-shap.csv', delimiter=',')\n",
    "#scala_shap = loadtxt('../data/scala-shap.csv', delimiter=',')\n",
    "#java_shap = loadtxt('../data/java-shap.csv', delimiter=',')"
   ]
  },
  {
   "cell_type": "code",
   "execution_count": 7,
   "metadata": {},
   "outputs": [],
   "source": [
    "#php_shap = loadtxt('../data/php-shap-2.csv', delimiter=',')\n",
    "#ruby_shap = loadtxt('../data/ruby-shap-2.csv', delimiter=',')\n",
    "#c_shap = loadtxt('../data/c-shap-2.csv', delimiter=',')\n",
    "#py_shap = loadtxt('../data/python-shap-2.csv', delimiter=',')\n",
    "#r_shap = loadtxt('../data/r-shap-2.csv', delimiter=',')\n",
    "#java_shap = loadtxt('../data/java-shap-2.csv', delimiter=',')"
   ]
  },
  {
   "cell_type": "code",
   "execution_count": 8,
   "metadata": {},
   "outputs": [
    {
     "data": {
      "text/plain": [
       "(44,)"
      ]
     },
     "execution_count": 8,
     "metadata": {},
     "output_type": "execute_result"
    }
   ],
   "source": [
    "ruby_shap.shape"
   ]
  },
  {
   "cell_type": "markdown",
   "metadata": {},
   "source": [
    "#### Preparing data"
   ]
  },
  {
   "cell_type": "code",
   "execution_count": 9,
   "metadata": {},
   "outputs": [],
   "source": [
    "# x and y lists (features and target)\n",
    "x = []\n",
    "aux = []"
   ]
  },
  {
   "cell_type": "code",
   "execution_count": 10,
   "metadata": {},
   "outputs": [],
   "source": [
    "x.append(php_shap)\n",
    "x.append(ruby_shap)\n",
    "x.append(c_shap)\n",
    "x.append(py_shap)\n",
    "x.append(scala_shap)\n",
    "x.append(java_shap)"
   ]
  },
  {
   "cell_type": "code",
   "execution_count": 11,
   "metadata": {},
   "outputs": [],
   "source": [
    "aux.append(0)\n",
    "aux.append(1)\n",
    "aux.append(2)\n",
    "aux.append(3)\n",
    "aux.append(4)\n",
    "aux.append(5)\n",
    "\n",
    "y = array(aux)"
   ]
  },
  {
   "cell_type": "markdown",
   "metadata": {},
   "source": [
    "#### TNSE"
   ]
  },
  {
   "cell_type": "code",
   "execution_count": 12,
   "metadata": {},
   "outputs": [],
   "source": [
    "classes = ['PHP', 'Ruby', 'C', 'Python', 'Scala', 'Java']\n",
    "\n",
    "tsne = TSNE(n_components=3, \n",
    "            init='pca', \n",
    "            verbose=1, \n",
    "            perplexity=50, \n",
    "            n_iter=500,\n",
    "            random_state=0)"
   ]
  },
  {
   "cell_type": "code",
   "execution_count": 13,
   "metadata": {},
   "outputs": [
    {
     "name": "stdout",
     "output_type": "stream",
     "text": [
      "[t-SNE] Computing 5 nearest neighbors...\n",
      "[t-SNE] Indexed 6 samples in 0.000s...\n",
      "[t-SNE] Computed neighbors for 6 samples in 0.006s...\n",
      "[t-SNE] Computed conditional probabilities for sample 6 / 6\n",
      "[t-SNE] Mean sigma: 1125899906842624.000000\n",
      "[t-SNE] KL divergence after 50 iterations with early exaggeration: 64.783875\n",
      "[t-SNE] KL divergence after 100 iterations: 2.913750\n"
     ]
    }
   ],
   "source": [
    "X_2d = tsne.fit_transform(x)"
   ]
  },
  {
   "cell_type": "code",
   "execution_count": 14,
   "metadata": {},
   "outputs": [
    {
     "data": {
      "image/png": "[encoded data removed]",
      "text/plain": [
       "<Figure size 432x288 with 2 Axes>"
      ]
     },
     "metadata": {},
     "output_type": "display_data"
    }
   ],
   "source": [
    "# plot the result\n",
    "vis_x = X_2d[:, 0]\n",
    "vis_y = X_2d[:, 1]\n",
    "scatter = plt.scatter(vis_x, vis_y, c=y, cmap=plt.cm.get_cmap(\"rainbow\", 6),alpha=0.5)\n",
    "plt.colorbar(ticks=range(6))\n",
    "plt.clim(-0.5, 5.5)\n",
    "plt.legend(handles=scatter.legend_elements()[0], labels=classes)\n",
    "plt.grid()\n",
    "plt.savefig('../reports/languages-tnse.png')\n",
    "plt.show()"
   ]
  },
  {
   "cell_type": "code",
   "execution_count": 15,
   "metadata": {},
   "outputs": [
    {
     "data": {
      "image/png": "[encoded data removed]",
      "text/plain": [
       "<Figure size 432x288 with 1 Axes>"
      ]
     },
     "metadata": {},
     "output_type": "display_data"
    }
   ],
   "source": [
    "# plot the result\n",
    "vis_x = X_2d[:, 0]\n",
    "vis_y = X_2d[:, 1]\n",
    "#plt.gca().spines['top'].set_visible(False)\n",
    "#plt.gca().spines['right'].set_visible(False)\n",
    "plt.scatter(vis_x, vis_y, c=y, cmap=plt.cm.get_cmap(\"rainbow\", 1),alpha=0.1)\n",
    "plt.xticks([])\n",
    "plt.yticks([])\n",
    "for i, txt in enumerate(classes):\n",
    "    plt.annotate(txt, (vis_x[i], vis_y[i]))\n",
    "plt.savefig('../reports/languages-tnse.png')\n",
    "plt.show()"
   ]
  },
  {
   "cell_type": "code",
   "execution_count": 16,
   "metadata": {
    "scrolled": true
   },
   "outputs": [
    {
     "data": {
      "image/png": "[encoded data removed]",
      "text/plain": [
       "<Figure size 432x288 with 1 Axes>"
      ]
     },
     "metadata": {},
     "output_type": "display_data"
    }
   ],
   "source": [
    "fig, ax = plt.subplots(1)\n",
    "ax.scatter(vis_x, vis_y, c=y, cmap=plt.cm.get_cmap(\"rainbow\", 6),alpha=0.5)\n",
    "ax.set_xticks([])\n",
    "ax.set_yticks([])\n",
    "for i, txt in enumerate(classes):\n",
    "    ax.annotate(txt, (vis_x[i], vis_y[i]))\n",
    "# And a corresponding grid\n",
    "ax.grid(which='both')"
   ]
  },
  {
   "cell_type": "markdown",
   "metadata": {},
   "source": [
    "#### That's all folks!!!"
   ]
  },
  {
   "cell_type": "code",
   "execution_count": null,
   "metadata": {},
   "outputs": [],
   "source": []
  }
 ],
 "metadata": {
  "kernelspec": {
   "display_name": "Python 3",
   "language": "python",
   "name": "python3"
  },
  "language_info": {
   "codemirror_mode": {
    "name": "ipython",
    "version": 3
   },
   "file_extension": ".py",
   "mimetype": "text/x-python",
   "name": "python",
   "nbconvert_exporter": "python",
   "pygments_lexer": "ipython3",
   "version": "3.8.2"
  }
 },
 "nbformat": 4,
 "nbformat_minor": 4
}
