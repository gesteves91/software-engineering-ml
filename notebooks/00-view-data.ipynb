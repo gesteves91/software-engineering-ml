{
 "cells": [
  {
   "cell_type": "code",
   "execution_count": 2,
   "metadata": {},
   "outputs": [],
   "source": [
    "# import libraries\n",
    "import pandas as pd"
   ]
  },
  {
   "cell_type": "code",
   "execution_count": 3,
   "metadata": {},
   "outputs": [
    {
     "name": "stderr",
     "output_type": "stream",
     "text": [
      "/home/geanderson/anaconda3/lib/python3.7/site-packages/IPython/core/interactiveshell.py:3049: DtypeWarning: Columns (0,6,7) have mixed types. Specify dtype option on import or set low_memory=False.\n",
      "  interactivity=interactivity, compiler=compiler, result=result)\n"
     ]
    }
   ],
   "source": [
    "# read the data\n",
    "df = pd.read_csv(\"../data/total_processed.csv\", index_col=0)"
   ]
  },
  {
   "cell_type": "code",
   "execution_count": 4,
   "metadata": {},
   "outputs": [
    {
     "data": {
      "text/plain": [
       "(601078, 52)"
      ]
     },
     "execution_count": 4,
     "metadata": {},
     "output_type": "execute_result"
    }
   ],
   "source": [
    "df.shape"
   ]
  },
  {
   "cell_type": "code",
   "execution_count": 5,
   "metadata": {},
   "outputs": [
    {
     "data": {
      "text/plain": [
       "Index(['sha', 'message', 'comment_count', 'date', 'total_deletions',\n",
       "       'total_additions', 'total', 'comments', 'additions', 'deletions',\n",
       "       'changes', 'status', 'filenames', 'name', 'fullname', 'private', 'fork',\n",
       "       'size', 'watchers_count', 'has_issues', 'has_downloads', 'has_wiki',\n",
       "       'forks_count', 'open_issues_count', 'forks', 'open_issues', 'watchers',\n",
       "       'network_count', 'type', 'admin', 'push', 'pull', 'label', 'owner',\n",
       "       'language_C', 'language_C#', 'language_C++', 'language_CSS',\n",
       "       'language_CoffeeScript', 'language_Go', 'language_Java',\n",
       "       'language_JavaScript', 'language_PHP', 'language_Perl',\n",
       "       'language_Python', 'language_R', 'language_Ruby', 'language_Scala',\n",
       "       'language_Shell', 'language_TypeScript', 'total_files', 'results'],\n",
       "      dtype='object')"
      ]
     },
     "execution_count": 5,
     "metadata": {},
     "output_type": "execute_result"
    }
   ],
   "source": [
    "df.columns"
   ]
  },
  {
   "cell_type": "code",
   "execution_count": null,
   "metadata": {},
   "outputs": [],
   "source": []
  }
 ],
 "metadata": {
  "kernelspec": {
   "display_name": "Python 3",
   "language": "python",
   "name": "python3"
  },
  "language_info": {
   "codemirror_mode": {
    "name": "ipython",
    "version": 3
   },
   "file_extension": ".py",
   "mimetype": "text/x-python",
   "name": "python",
   "nbconvert_exporter": "python",
   "pygments_lexer": "ipython3",
   "version": "3.7.3"
  }
 },
 "nbformat": 4,
 "nbformat_minor": 2
}
